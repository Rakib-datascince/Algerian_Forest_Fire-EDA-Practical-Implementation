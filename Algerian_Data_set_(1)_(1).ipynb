{
  "cells": [
    {
      "cell_type": "markdown",
      "source": [
        "**Algerian Forest fire EDA practical implementation\n",
        "Life cycle of machine learning project**"
      ],
      "metadata": {
        "id": "6c0vt8J4NKJA"
      },
      "id": "6c0vt8J4NKJA"
    },
    {
      "cell_type": "code",
      "source": [],
      "metadata": {
        "id": "TyGFGs7TesHx"
      },
      "id": "TyGFGs7TesHx",
      "execution_count": null,
      "outputs": []
    },
    {
      "cell_type": "code",
      "source": [
        "import pandas as pd\n",
        "import numpy as np\n",
        "import matplotlib.pyplot as plt\n",
        "import seaborn as sns\n",
        "import plotly.express as px\n",
        "import warnings\n",
        "warnings.filterwarnings('ignore')\n",
        "%matplotlib inline"
      ],
      "metadata": {
        "id": "KsDzDyb4M3CU"
      },
      "id": "KsDzDyb4M3CU",
      "execution_count": null,
      "outputs": []
    },
    {
      "cell_type": "code",
      "source": [],
      "metadata": {
        "id": "uulHvf0jNmML"
      },
      "id": "uulHvf0jNmML",
      "execution_count": null,
      "outputs": []
    },
    {
      "cell_type": "markdown",
      "source": [
        "**1) Problem statement**"
      ],
      "metadata": {
        "id": "kPu2zqQ8Ny7Z"
      },
      "id": "kPu2zqQ8Ny7Z"
    },
    {
      "cell_type": "markdown",
      "source": [
        "**The dataset comparises of two regions of Algeria , namely the Bejia region located in the northerneast of Algeria and the Sidi Bel-abbes region located in the northwest of Algeria \n",
        "\n",
        "If user can predict that Algerian forest will catch fire or not based on input feature\n",
        "\n",
        "Prediction result can be used for Forest Fore Situatiion Trackers and make correct Prevention to Avoid it in future\n",
        "**"
      ],
      "metadata": {
        "id": "QysYSWsOOwc8"
      },
      "id": "QysYSWsOOwc8"
    },
    {
      "cell_type": "markdown",
      "source": [
        "**DATA COLLECTION**"
      ],
      "metadata": {
        "id": "VxlYhkNIRItf"
      },
      "id": "VxlYhkNIRItf"
    },
    {
      "cell_type": "code",
      "execution_count": null,
      "id": "1505bb3d",
      "metadata": {
        "id": "1505bb3d"
      },
      "outputs": [],
      "source": [
        "df = pd.read_csv('/content/Algerian_forest_fires_dataset_UPDATE (1).csv',header = 1)"
      ]
    },
    {
      "cell_type": "markdown",
      "id": "20ee141f",
      "metadata": {
        "id": "20ee141f"
      },
      "source": [
        "DATA READING AND CLEANING"
      ]
    },
    {
      "cell_type": "markdown",
      "source": [
        "**IMPORT DATA AND REQUIRED PACKAGES**"
      ],
      "metadata": {
        "id": "S04eggi1RWNk"
      },
      "id": "S04eggi1RWNk"
    },
    {
      "cell_type": "code",
      "execution_count": null,
      "id": "751025f5",
      "metadata": {
        "colab": {
          "base_uri": "https://localhost:8080/",
          "height": 206
        },
        "id": "751025f5",
        "outputId": "f7b67104-ceb8-4b9a-803f-1d0c77961ae0"
      },
      "outputs": [
        {
          "output_type": "execute_result",
          "data": {
            "text/plain": [
              "  day month  year Temperature  RH  Ws Rain   FFMC  DMC    DC  ISI  BUI  FWI  \\\n",
              "0   1     6  2012          29  57  18     0  65.7  3.4   7.6  1.3  3.4  0.5   \n",
              "1   2     6  2012          29  61  13   1.3  64.4  4.1   7.6    1  3.9  0.4   \n",
              "2   3     6  2012          26  82  22  13.1  47.1  2.5   7.1  0.3  2.7  0.1   \n",
              "3   4     6  2012          25  89  13   2.5  28.6  1.3   6.9    0  1.7    0   \n",
              "4   5     6  2012          27  77  16     0  64.8    3  14.2  1.2  3.9  0.5   \n",
              "\n",
              "     Classes    \n",
              "0  not fire     \n",
              "1  not fire     \n",
              "2  not fire     \n",
              "3  not fire     \n",
              "4  not fire     "
            ],
            "text/html": [
              "\n",
              "  <div id=\"df-044602e7-25bb-400a-a055-46a85929d8ea\">\n",
              "    <div class=\"colab-df-container\">\n",
              "      <div>\n",
              "<style scoped>\n",
              "    .dataframe tbody tr th:only-of-type {\n",
              "        vertical-align: middle;\n",
              "    }\n",
              "\n",
              "    .dataframe tbody tr th {\n",
              "        vertical-align: top;\n",
              "    }\n",
              "\n",
              "    .dataframe thead th {\n",
              "        text-align: right;\n",
              "    }\n",
              "</style>\n",
              "<table border=\"1\" class=\"dataframe\">\n",
              "  <thead>\n",
              "    <tr style=\"text-align: right;\">\n",
              "      <th></th>\n",
              "      <th>day</th>\n",
              "      <th>month</th>\n",
              "      <th>year</th>\n",
              "      <th>Temperature</th>\n",
              "      <th>RH</th>\n",
              "      <th>Ws</th>\n",
              "      <th>Rain</th>\n",
              "      <th>FFMC</th>\n",
              "      <th>DMC</th>\n",
              "      <th>DC</th>\n",
              "      <th>ISI</th>\n",
              "      <th>BUI</th>\n",
              "      <th>FWI</th>\n",
              "      <th>Classes</th>\n",
              "    </tr>\n",
              "  </thead>\n",
              "  <tbody>\n",
              "    <tr>\n",
              "      <th>0</th>\n",
              "      <td>1</td>\n",
              "      <td>6</td>\n",
              "      <td>2012</td>\n",
              "      <td>29</td>\n",
              "      <td>57</td>\n",
              "      <td>18</td>\n",
              "      <td>0</td>\n",
              "      <td>65.7</td>\n",
              "      <td>3.4</td>\n",
              "      <td>7.6</td>\n",
              "      <td>1.3</td>\n",
              "      <td>3.4</td>\n",
              "      <td>0.5</td>\n",
              "      <td>not fire</td>\n",
              "    </tr>\n",
              "    <tr>\n",
              "      <th>1</th>\n",
              "      <td>2</td>\n",
              "      <td>6</td>\n",
              "      <td>2012</td>\n",
              "      <td>29</td>\n",
              "      <td>61</td>\n",
              "      <td>13</td>\n",
              "      <td>1.3</td>\n",
              "      <td>64.4</td>\n",
              "      <td>4.1</td>\n",
              "      <td>7.6</td>\n",
              "      <td>1</td>\n",
              "      <td>3.9</td>\n",
              "      <td>0.4</td>\n",
              "      <td>not fire</td>\n",
              "    </tr>\n",
              "    <tr>\n",
              "      <th>2</th>\n",
              "      <td>3</td>\n",
              "      <td>6</td>\n",
              "      <td>2012</td>\n",
              "      <td>26</td>\n",
              "      <td>82</td>\n",
              "      <td>22</td>\n",
              "      <td>13.1</td>\n",
              "      <td>47.1</td>\n",
              "      <td>2.5</td>\n",
              "      <td>7.1</td>\n",
              "      <td>0.3</td>\n",
              "      <td>2.7</td>\n",
              "      <td>0.1</td>\n",
              "      <td>not fire</td>\n",
              "    </tr>\n",
              "    <tr>\n",
              "      <th>3</th>\n",
              "      <td>4</td>\n",
              "      <td>6</td>\n",
              "      <td>2012</td>\n",
              "      <td>25</td>\n",
              "      <td>89</td>\n",
              "      <td>13</td>\n",
              "      <td>2.5</td>\n",
              "      <td>28.6</td>\n",
              "      <td>1.3</td>\n",
              "      <td>6.9</td>\n",
              "      <td>0</td>\n",
              "      <td>1.7</td>\n",
              "      <td>0</td>\n",
              "      <td>not fire</td>\n",
              "    </tr>\n",
              "    <tr>\n",
              "      <th>4</th>\n",
              "      <td>5</td>\n",
              "      <td>6</td>\n",
              "      <td>2012</td>\n",
              "      <td>27</td>\n",
              "      <td>77</td>\n",
              "      <td>16</td>\n",
              "      <td>0</td>\n",
              "      <td>64.8</td>\n",
              "      <td>3</td>\n",
              "      <td>14.2</td>\n",
              "      <td>1.2</td>\n",
              "      <td>3.9</td>\n",
              "      <td>0.5</td>\n",
              "      <td>not fire</td>\n",
              "    </tr>\n",
              "  </tbody>\n",
              "</table>\n",
              "</div>\n",
              "      <button class=\"colab-df-convert\" onclick=\"convertToInteractive('df-044602e7-25bb-400a-a055-46a85929d8ea')\"\n",
              "              title=\"Convert this dataframe to an interactive table.\"\n",
              "              style=\"display:none;\">\n",
              "        \n",
              "  <svg xmlns=\"http://www.w3.org/2000/svg\" height=\"24px\"viewBox=\"0 0 24 24\"\n",
              "       width=\"24px\">\n",
              "    <path d=\"M0 0h24v24H0V0z\" fill=\"none\"/>\n",
              "    <path d=\"M18.56 5.44l.94 2.06.94-2.06 2.06-.94-2.06-.94-.94-2.06-.94 2.06-2.06.94zm-11 1L8.5 8.5l.94-2.06 2.06-.94-2.06-.94L8.5 2.5l-.94 2.06-2.06.94zm10 10l.94 2.06.94-2.06 2.06-.94-2.06-.94-.94-2.06-.94 2.06-2.06.94z\"/><path d=\"M17.41 7.96l-1.37-1.37c-.4-.4-.92-.59-1.43-.59-.52 0-1.04.2-1.43.59L10.3 9.45l-7.72 7.72c-.78.78-.78 2.05 0 2.83L4 21.41c.39.39.9.59 1.41.59.51 0 1.02-.2 1.41-.59l7.78-7.78 2.81-2.81c.8-.78.8-2.07 0-2.86zM5.41 20L4 18.59l7.72-7.72 1.47 1.35L5.41 20z\"/>\n",
              "  </svg>\n",
              "      </button>\n",
              "      \n",
              "  <style>\n",
              "    .colab-df-container {\n",
              "      display:flex;\n",
              "      flex-wrap:wrap;\n",
              "      gap: 12px;\n",
              "    }\n",
              "\n",
              "    .colab-df-convert {\n",
              "      background-color: #E8F0FE;\n",
              "      border: none;\n",
              "      border-radius: 50%;\n",
              "      cursor: pointer;\n",
              "      display: none;\n",
              "      fill: #1967D2;\n",
              "      height: 32px;\n",
              "      padding: 0 0 0 0;\n",
              "      width: 32px;\n",
              "    }\n",
              "\n",
              "    .colab-df-convert:hover {\n",
              "      background-color: #E2EBFA;\n",
              "      box-shadow: 0px 1px 2px rgba(60, 64, 67, 0.3), 0px 1px 3px 1px rgba(60, 64, 67, 0.15);\n",
              "      fill: #174EA6;\n",
              "    }\n",
              "\n",
              "    [theme=dark] .colab-df-convert {\n",
              "      background-color: #3B4455;\n",
              "      fill: #D2E3FC;\n",
              "    }\n",
              "\n",
              "    [theme=dark] .colab-df-convert:hover {\n",
              "      background-color: #434B5C;\n",
              "      box-shadow: 0px 1px 3px 1px rgba(0, 0, 0, 0.15);\n",
              "      filter: drop-shadow(0px 1px 2px rgba(0, 0, 0, 0.3));\n",
              "      fill: #FFFFFF;\n",
              "    }\n",
              "  </style>\n",
              "\n",
              "      <script>\n",
              "        const buttonEl =\n",
              "          document.querySelector('#df-044602e7-25bb-400a-a055-46a85929d8ea button.colab-df-convert');\n",
              "        buttonEl.style.display =\n",
              "          google.colab.kernel.accessAllowed ? 'block' : 'none';\n",
              "\n",
              "        async function convertToInteractive(key) {\n",
              "          const element = document.querySelector('#df-044602e7-25bb-400a-a055-46a85929d8ea');\n",
              "          const dataTable =\n",
              "            await google.colab.kernel.invokeFunction('convertToInteractive',\n",
              "                                                     [key], {});\n",
              "          if (!dataTable) return;\n",
              "\n",
              "          const docLinkHtml = 'Like what you see? Visit the ' +\n",
              "            '<a target=\"_blank\" href=https://colab.research.google.com/notebooks/data_table.ipynb>data table notebook</a>'\n",
              "            + ' to learn more about interactive tables.';\n",
              "          element.innerHTML = '';\n",
              "          dataTable['output_type'] = 'display_data';\n",
              "          await google.colab.output.renderOutput(dataTable, element);\n",
              "          const docLink = document.createElement('div');\n",
              "          docLink.innerHTML = docLinkHtml;\n",
              "          element.appendChild(docLink);\n",
              "        }\n",
              "      </script>\n",
              "    </div>\n",
              "  </div>\n",
              "  "
            ]
          },
          "metadata": {},
          "execution_count": 4
        }
      ],
      "source": [
        "df.head()#Top 5 data"
      ]
    },
    {
      "cell_type": "code",
      "execution_count": null,
      "id": "c5d34e24",
      "metadata": {
        "colab": {
          "base_uri": "https://localhost:8080/",
          "height": 206
        },
        "id": "c5d34e24",
        "outputId": "f0b74063-21c3-43d9-cd9d-c7a6e2e44247"
      },
      "outputs": [
        {
          "output_type": "execute_result",
          "data": {
            "text/plain": [
              "    day month  year Temperature  RH  Ws Rain   FFMC  DMC    DC  ISI   BUI  \\\n",
              "242  26     9  2012          30  65  14     0  85.4   16  44.5  4.5  16.9   \n",
              "243  27     9  2012          28  87  15   4.4  41.1  6.5     8  0.1   6.2   \n",
              "244  28     9  2012          27  87  29   0.5  45.9  3.5   7.9  0.4   3.4   \n",
              "245  29     9  2012          24  54  18   0.1  79.7  4.3  15.2  1.7   5.1   \n",
              "246  30     9  2012          24  64  15   0.2  67.3  3.8  16.5  1.2   4.8   \n",
              "\n",
              "     FWI     Classes    \n",
              "242  6.5       fire     \n",
              "243    0   not fire     \n",
              "244  0.2   not fire     \n",
              "245  0.7   not fire     \n",
              "246  0.5  not fire      "
            ],
            "text/html": [
              "\n",
              "  <div id=\"df-a5fc0346-0cc0-469e-9d42-63884323f4b0\">\n",
              "    <div class=\"colab-df-container\">\n",
              "      <div>\n",
              "<style scoped>\n",
              "    .dataframe tbody tr th:only-of-type {\n",
              "        vertical-align: middle;\n",
              "    }\n",
              "\n",
              "    .dataframe tbody tr th {\n",
              "        vertical-align: top;\n",
              "    }\n",
              "\n",
              "    .dataframe thead th {\n",
              "        text-align: right;\n",
              "    }\n",
              "</style>\n",
              "<table border=\"1\" class=\"dataframe\">\n",
              "  <thead>\n",
              "    <tr style=\"text-align: right;\">\n",
              "      <th></th>\n",
              "      <th>day</th>\n",
              "      <th>month</th>\n",
              "      <th>year</th>\n",
              "      <th>Temperature</th>\n",
              "      <th>RH</th>\n",
              "      <th>Ws</th>\n",
              "      <th>Rain</th>\n",
              "      <th>FFMC</th>\n",
              "      <th>DMC</th>\n",
              "      <th>DC</th>\n",
              "      <th>ISI</th>\n",
              "      <th>BUI</th>\n",
              "      <th>FWI</th>\n",
              "      <th>Classes</th>\n",
              "    </tr>\n",
              "  </thead>\n",
              "  <tbody>\n",
              "    <tr>\n",
              "      <th>242</th>\n",
              "      <td>26</td>\n",
              "      <td>9</td>\n",
              "      <td>2012</td>\n",
              "      <td>30</td>\n",
              "      <td>65</td>\n",
              "      <td>14</td>\n",
              "      <td>0</td>\n",
              "      <td>85.4</td>\n",
              "      <td>16</td>\n",
              "      <td>44.5</td>\n",
              "      <td>4.5</td>\n",
              "      <td>16.9</td>\n",
              "      <td>6.5</td>\n",
              "      <td>fire</td>\n",
              "    </tr>\n",
              "    <tr>\n",
              "      <th>243</th>\n",
              "      <td>27</td>\n",
              "      <td>9</td>\n",
              "      <td>2012</td>\n",
              "      <td>28</td>\n",
              "      <td>87</td>\n",
              "      <td>15</td>\n",
              "      <td>4.4</td>\n",
              "      <td>41.1</td>\n",
              "      <td>6.5</td>\n",
              "      <td>8</td>\n",
              "      <td>0.1</td>\n",
              "      <td>6.2</td>\n",
              "      <td>0</td>\n",
              "      <td>not fire</td>\n",
              "    </tr>\n",
              "    <tr>\n",
              "      <th>244</th>\n",
              "      <td>28</td>\n",
              "      <td>9</td>\n",
              "      <td>2012</td>\n",
              "      <td>27</td>\n",
              "      <td>87</td>\n",
              "      <td>29</td>\n",
              "      <td>0.5</td>\n",
              "      <td>45.9</td>\n",
              "      <td>3.5</td>\n",
              "      <td>7.9</td>\n",
              "      <td>0.4</td>\n",
              "      <td>3.4</td>\n",
              "      <td>0.2</td>\n",
              "      <td>not fire</td>\n",
              "    </tr>\n",
              "    <tr>\n",
              "      <th>245</th>\n",
              "      <td>29</td>\n",
              "      <td>9</td>\n",
              "      <td>2012</td>\n",
              "      <td>24</td>\n",
              "      <td>54</td>\n",
              "      <td>18</td>\n",
              "      <td>0.1</td>\n",
              "      <td>79.7</td>\n",
              "      <td>4.3</td>\n",
              "      <td>15.2</td>\n",
              "      <td>1.7</td>\n",
              "      <td>5.1</td>\n",
              "      <td>0.7</td>\n",
              "      <td>not fire</td>\n",
              "    </tr>\n",
              "    <tr>\n",
              "      <th>246</th>\n",
              "      <td>30</td>\n",
              "      <td>9</td>\n",
              "      <td>2012</td>\n",
              "      <td>24</td>\n",
              "      <td>64</td>\n",
              "      <td>15</td>\n",
              "      <td>0.2</td>\n",
              "      <td>67.3</td>\n",
              "      <td>3.8</td>\n",
              "      <td>16.5</td>\n",
              "      <td>1.2</td>\n",
              "      <td>4.8</td>\n",
              "      <td>0.5</td>\n",
              "      <td>not fire</td>\n",
              "    </tr>\n",
              "  </tbody>\n",
              "</table>\n",
              "</div>\n",
              "      <button class=\"colab-df-convert\" onclick=\"convertToInteractive('df-a5fc0346-0cc0-469e-9d42-63884323f4b0')\"\n",
              "              title=\"Convert this dataframe to an interactive table.\"\n",
              "              style=\"display:none;\">\n",
              "        \n",
              "  <svg xmlns=\"http://www.w3.org/2000/svg\" height=\"24px\"viewBox=\"0 0 24 24\"\n",
              "       width=\"24px\">\n",
              "    <path d=\"M0 0h24v24H0V0z\" fill=\"none\"/>\n",
              "    <path d=\"M18.56 5.44l.94 2.06.94-2.06 2.06-.94-2.06-.94-.94-2.06-.94 2.06-2.06.94zm-11 1L8.5 8.5l.94-2.06 2.06-.94-2.06-.94L8.5 2.5l-.94 2.06-2.06.94zm10 10l.94 2.06.94-2.06 2.06-.94-2.06-.94-.94-2.06-.94 2.06-2.06.94z\"/><path d=\"M17.41 7.96l-1.37-1.37c-.4-.4-.92-.59-1.43-.59-.52 0-1.04.2-1.43.59L10.3 9.45l-7.72 7.72c-.78.78-.78 2.05 0 2.83L4 21.41c.39.39.9.59 1.41.59.51 0 1.02-.2 1.41-.59l7.78-7.78 2.81-2.81c.8-.78.8-2.07 0-2.86zM5.41 20L4 18.59l7.72-7.72 1.47 1.35L5.41 20z\"/>\n",
              "  </svg>\n",
              "      </button>\n",
              "      \n",
              "  <style>\n",
              "    .colab-df-container {\n",
              "      display:flex;\n",
              "      flex-wrap:wrap;\n",
              "      gap: 12px;\n",
              "    }\n",
              "\n",
              "    .colab-df-convert {\n",
              "      background-color: #E8F0FE;\n",
              "      border: none;\n",
              "      border-radius: 50%;\n",
              "      cursor: pointer;\n",
              "      display: none;\n",
              "      fill: #1967D2;\n",
              "      height: 32px;\n",
              "      padding: 0 0 0 0;\n",
              "      width: 32px;\n",
              "    }\n",
              "\n",
              "    .colab-df-convert:hover {\n",
              "      background-color: #E2EBFA;\n",
              "      box-shadow: 0px 1px 2px rgba(60, 64, 67, 0.3), 0px 1px 3px 1px rgba(60, 64, 67, 0.15);\n",
              "      fill: #174EA6;\n",
              "    }\n",
              "\n",
              "    [theme=dark] .colab-df-convert {\n",
              "      background-color: #3B4455;\n",
              "      fill: #D2E3FC;\n",
              "    }\n",
              "\n",
              "    [theme=dark] .colab-df-convert:hover {\n",
              "      background-color: #434B5C;\n",
              "      box-shadow: 0px 1px 3px 1px rgba(0, 0, 0, 0.15);\n",
              "      filter: drop-shadow(0px 1px 2px rgba(0, 0, 0, 0.3));\n",
              "      fill: #FFFFFF;\n",
              "    }\n",
              "  </style>\n",
              "\n",
              "      <script>\n",
              "        const buttonEl =\n",
              "          document.querySelector('#df-a5fc0346-0cc0-469e-9d42-63884323f4b0 button.colab-df-convert');\n",
              "        buttonEl.style.display =\n",
              "          google.colab.kernel.accessAllowed ? 'block' : 'none';\n",
              "\n",
              "        async function convertToInteractive(key) {\n",
              "          const element = document.querySelector('#df-a5fc0346-0cc0-469e-9d42-63884323f4b0');\n",
              "          const dataTable =\n",
              "            await google.colab.kernel.invokeFunction('convertToInteractive',\n",
              "                                                     [key], {});\n",
              "          if (!dataTable) return;\n",
              "\n",
              "          const docLinkHtml = 'Like what you see? Visit the ' +\n",
              "            '<a target=\"_blank\" href=https://colab.research.google.com/notebooks/data_table.ipynb>data table notebook</a>'\n",
              "            + ' to learn more about interactive tables.';\n",
              "          element.innerHTML = '';\n",
              "          dataTable['output_type'] = 'display_data';\n",
              "          await google.colab.output.renderOutput(dataTable, element);\n",
              "          const docLink = document.createElement('div');\n",
              "          docLink.innerHTML = docLinkHtml;\n",
              "          element.appendChild(docLink);\n",
              "        }\n",
              "      </script>\n",
              "    </div>\n",
              "  </div>\n",
              "  "
            ]
          },
          "metadata": {},
          "execution_count": 5
        }
      ],
      "source": [
        "df.tail()#Bottom 5 data"
      ]
    },
    {
      "cell_type": "markdown",
      "source": [
        "**SHAPE OF DATA**"
      ],
      "metadata": {
        "id": "LAtnjVzDRlxx"
      },
      "id": "LAtnjVzDRlxx"
    },
    {
      "cell_type": "code",
      "execution_count": null,
      "id": "e02a5405",
      "metadata": {
        "colab": {
          "base_uri": "https://localhost:8080/"
        },
        "id": "e02a5405",
        "outputId": "66c104ce-ab45-4ea3-ec06-4f5b316bc4a1"
      },
      "outputs": [
        {
          "output_type": "execute_result",
          "data": {
            "text/plain": [
              "(247, 14)"
            ]
          },
          "metadata": {},
          "execution_count": 6
        }
      ],
      "source": [
        "df.shape"
      ]
    },
    {
      "cell_type": "markdown",
      "source": [
        "**SUMMARY OF DATA**"
      ],
      "metadata": {
        "id": "V6ZUNIyPRqqT"
      },
      "id": "V6ZUNIyPRqqT"
    },
    {
      "cell_type": "code",
      "execution_count": null,
      "id": "d8d42e53",
      "metadata": {
        "colab": {
          "base_uri": "https://localhost:8080/",
          "height": 175
        },
        "id": "d8d42e53",
        "outputId": "4a574ca2-8405-4bec-d70a-ca65209bf32a"
      },
      "outputs": [
        {
          "output_type": "execute_result",
          "data": {
            "text/plain": [
              "        day month  year Temperature   RH   Ws Rain   FFMC  DMC   DC  ISI  BUI  \\\n",
              "count   246   245   245         245  245  245   245   245  245  245  245  245   \n",
              "unique   33     5     2          20   63   19    40   174  167  199  107  175   \n",
              "top       1     7  2012          35   64   14     0  88.9  7.9    8  1.1    3   \n",
              "freq      8    62   244          29   10   43   133     8    5    5    8    5   \n",
              "\n",
              "        FWI Classes    \n",
              "count   245       244  \n",
              "unique  127         9  \n",
              "top     0.4   fire     \n",
              "freq     12       131  "
            ],
            "text/html": [
              "\n",
              "  <div id=\"df-69d1d643-3627-401a-a54d-39ed84491a54\">\n",
              "    <div class=\"colab-df-container\">\n",
              "      <div>\n",
              "<style scoped>\n",
              "    .dataframe tbody tr th:only-of-type {\n",
              "        vertical-align: middle;\n",
              "    }\n",
              "\n",
              "    .dataframe tbody tr th {\n",
              "        vertical-align: top;\n",
              "    }\n",
              "\n",
              "    .dataframe thead th {\n",
              "        text-align: right;\n",
              "    }\n",
              "</style>\n",
              "<table border=\"1\" class=\"dataframe\">\n",
              "  <thead>\n",
              "    <tr style=\"text-align: right;\">\n",
              "      <th></th>\n",
              "      <th>day</th>\n",
              "      <th>month</th>\n",
              "      <th>year</th>\n",
              "      <th>Temperature</th>\n",
              "      <th>RH</th>\n",
              "      <th>Ws</th>\n",
              "      <th>Rain</th>\n",
              "      <th>FFMC</th>\n",
              "      <th>DMC</th>\n",
              "      <th>DC</th>\n",
              "      <th>ISI</th>\n",
              "      <th>BUI</th>\n",
              "      <th>FWI</th>\n",
              "      <th>Classes</th>\n",
              "    </tr>\n",
              "  </thead>\n",
              "  <tbody>\n",
              "    <tr>\n",
              "      <th>count</th>\n",
              "      <td>246</td>\n",
              "      <td>245</td>\n",
              "      <td>245</td>\n",
              "      <td>245</td>\n",
              "      <td>245</td>\n",
              "      <td>245</td>\n",
              "      <td>245</td>\n",
              "      <td>245</td>\n",
              "      <td>245</td>\n",
              "      <td>245</td>\n",
              "      <td>245</td>\n",
              "      <td>245</td>\n",
              "      <td>245</td>\n",
              "      <td>244</td>\n",
              "    </tr>\n",
              "    <tr>\n",
              "      <th>unique</th>\n",
              "      <td>33</td>\n",
              "      <td>5</td>\n",
              "      <td>2</td>\n",
              "      <td>20</td>\n",
              "      <td>63</td>\n",
              "      <td>19</td>\n",
              "      <td>40</td>\n",
              "      <td>174</td>\n",
              "      <td>167</td>\n",
              "      <td>199</td>\n",
              "      <td>107</td>\n",
              "      <td>175</td>\n",
              "      <td>127</td>\n",
              "      <td>9</td>\n",
              "    </tr>\n",
              "    <tr>\n",
              "      <th>top</th>\n",
              "      <td>1</td>\n",
              "      <td>7</td>\n",
              "      <td>2012</td>\n",
              "      <td>35</td>\n",
              "      <td>64</td>\n",
              "      <td>14</td>\n",
              "      <td>0</td>\n",
              "      <td>88.9</td>\n",
              "      <td>7.9</td>\n",
              "      <td>8</td>\n",
              "      <td>1.1</td>\n",
              "      <td>3</td>\n",
              "      <td>0.4</td>\n",
              "      <td>fire</td>\n",
              "    </tr>\n",
              "    <tr>\n",
              "      <th>freq</th>\n",
              "      <td>8</td>\n",
              "      <td>62</td>\n",
              "      <td>244</td>\n",
              "      <td>29</td>\n",
              "      <td>10</td>\n",
              "      <td>43</td>\n",
              "      <td>133</td>\n",
              "      <td>8</td>\n",
              "      <td>5</td>\n",
              "      <td>5</td>\n",
              "      <td>8</td>\n",
              "      <td>5</td>\n",
              "      <td>12</td>\n",
              "      <td>131</td>\n",
              "    </tr>\n",
              "  </tbody>\n",
              "</table>\n",
              "</div>\n",
              "      <button class=\"colab-df-convert\" onclick=\"convertToInteractive('df-69d1d643-3627-401a-a54d-39ed84491a54')\"\n",
              "              title=\"Convert this dataframe to an interactive table.\"\n",
              "              style=\"display:none;\">\n",
              "        \n",
              "  <svg xmlns=\"http://www.w3.org/2000/svg\" height=\"24px\"viewBox=\"0 0 24 24\"\n",
              "       width=\"24px\">\n",
              "    <path d=\"M0 0h24v24H0V0z\" fill=\"none\"/>\n",
              "    <path d=\"M18.56 5.44l.94 2.06.94-2.06 2.06-.94-2.06-.94-.94-2.06-.94 2.06-2.06.94zm-11 1L8.5 8.5l.94-2.06 2.06-.94-2.06-.94L8.5 2.5l-.94 2.06-2.06.94zm10 10l.94 2.06.94-2.06 2.06-.94-2.06-.94-.94-2.06-.94 2.06-2.06.94z\"/><path d=\"M17.41 7.96l-1.37-1.37c-.4-.4-.92-.59-1.43-.59-.52 0-1.04.2-1.43.59L10.3 9.45l-7.72 7.72c-.78.78-.78 2.05 0 2.83L4 21.41c.39.39.9.59 1.41.59.51 0 1.02-.2 1.41-.59l7.78-7.78 2.81-2.81c.8-.78.8-2.07 0-2.86zM5.41 20L4 18.59l7.72-7.72 1.47 1.35L5.41 20z\"/>\n",
              "  </svg>\n",
              "      </button>\n",
              "      \n",
              "  <style>\n",
              "    .colab-df-container {\n",
              "      display:flex;\n",
              "      flex-wrap:wrap;\n",
              "      gap: 12px;\n",
              "    }\n",
              "\n",
              "    .colab-df-convert {\n",
              "      background-color: #E8F0FE;\n",
              "      border: none;\n",
              "      border-radius: 50%;\n",
              "      cursor: pointer;\n",
              "      display: none;\n",
              "      fill: #1967D2;\n",
              "      height: 32px;\n",
              "      padding: 0 0 0 0;\n",
              "      width: 32px;\n",
              "    }\n",
              "\n",
              "    .colab-df-convert:hover {\n",
              "      background-color: #E2EBFA;\n",
              "      box-shadow: 0px 1px 2px rgba(60, 64, 67, 0.3), 0px 1px 3px 1px rgba(60, 64, 67, 0.15);\n",
              "      fill: #174EA6;\n",
              "    }\n",
              "\n",
              "    [theme=dark] .colab-df-convert {\n",
              "      background-color: #3B4455;\n",
              "      fill: #D2E3FC;\n",
              "    }\n",
              "\n",
              "    [theme=dark] .colab-df-convert:hover {\n",
              "      background-color: #434B5C;\n",
              "      box-shadow: 0px 1px 3px 1px rgba(0, 0, 0, 0.15);\n",
              "      filter: drop-shadow(0px 1px 2px rgba(0, 0, 0, 0.3));\n",
              "      fill: #FFFFFF;\n",
              "    }\n",
              "  </style>\n",
              "\n",
              "      <script>\n",
              "        const buttonEl =\n",
              "          document.querySelector('#df-69d1d643-3627-401a-a54d-39ed84491a54 button.colab-df-convert');\n",
              "        buttonEl.style.display =\n",
              "          google.colab.kernel.accessAllowed ? 'block' : 'none';\n",
              "\n",
              "        async function convertToInteractive(key) {\n",
              "          const element = document.querySelector('#df-69d1d643-3627-401a-a54d-39ed84491a54');\n",
              "          const dataTable =\n",
              "            await google.colab.kernel.invokeFunction('convertToInteractive',\n",
              "                                                     [key], {});\n",
              "          if (!dataTable) return;\n",
              "\n",
              "          const docLinkHtml = 'Like what you see? Visit the ' +\n",
              "            '<a target=\"_blank\" href=https://colab.research.google.com/notebooks/data_table.ipynb>data table notebook</a>'\n",
              "            + ' to learn more about interactive tables.';\n",
              "          element.innerHTML = '';\n",
              "          dataTable['output_type'] = 'display_data';\n",
              "          await google.colab.output.renderOutput(dataTable, element);\n",
              "          const docLink = document.createElement('div');\n",
              "          docLink.innerHTML = docLinkHtml;\n",
              "          element.appendChild(docLink);\n",
              "        }\n",
              "      </script>\n",
              "    </div>\n",
              "  </div>\n",
              "  "
            ]
          },
          "metadata": {},
          "execution_count": 7
        }
      ],
      "source": [
        "df.describe()"
      ]
    },
    {
      "cell_type": "markdown",
      "source": [
        "**CHECK DATA TYPE IN THE DATASET**"
      ],
      "metadata": {
        "id": "uIT5cAgmRxyx"
      },
      "id": "uIT5cAgmRxyx"
    },
    {
      "cell_type": "code",
      "execution_count": null,
      "id": "5e1d29d3",
      "metadata": {
        "colab": {
          "base_uri": "https://localhost:8080/"
        },
        "id": "5e1d29d3",
        "outputId": "14bff1a1-e925-4f11-be69-321e73f4908e"
      },
      "outputs": [
        {
          "output_type": "stream",
          "name": "stdout",
          "text": [
            "<class 'pandas.core.frame.DataFrame'>\n",
            "RangeIndex: 247 entries, 0 to 246\n",
            "Data columns (total 14 columns):\n",
            " #   Column       Non-Null Count  Dtype \n",
            "---  ------       --------------  ----- \n",
            " 0   day          246 non-null    object\n",
            " 1   month        245 non-null    object\n",
            " 2   year         245 non-null    object\n",
            " 3   Temperature  245 non-null    object\n",
            " 4    RH          245 non-null    object\n",
            " 5    Ws          245 non-null    object\n",
            " 6   Rain         245 non-null    object\n",
            " 7   FFMC         245 non-null    object\n",
            " 8   DMC          245 non-null    object\n",
            " 9   DC           245 non-null    object\n",
            " 10  ISI          245 non-null    object\n",
            " 11  BUI          245 non-null    object\n",
            " 12  FWI          245 non-null    object\n",
            " 13  Classes      244 non-null    object\n",
            "dtypes: object(14)\n",
            "memory usage: 27.1+ KB\n"
          ]
        }
      ],
      "source": [
        "df.info()"
      ]
    },
    {
      "cell_type": "markdown",
      "source": [
        "**DATA CLEANING**"
      ],
      "metadata": {
        "id": "ScYuhXABR71B"
      },
      "id": "ScYuhXABR71B"
    },
    {
      "cell_type": "markdown",
      "source": [
        "REMOVING UNNESSARY ROWS FROM DATA SET"
      ],
      "metadata": {
        "id": "BatY9r5GSBu-"
      },
      "id": "BatY9r5GSBu-"
    },
    {
      "cell_type": "code",
      "execution_count": null,
      "id": "2f7c1141",
      "metadata": {
        "id": "2f7c1141"
      },
      "outputs": [],
      "source": [
        "df.drop(index=[122,123],inplace=True)\n",
        "df.reset_index(inplace=True)\n",
        "df.drop('index',axis=1,inplace = True)"
      ]
    },
    {
      "cell_type": "markdown",
      "source": [
        "**ADDING NEW FEATURE IN DATA SET 'REGION'**"
      ],
      "metadata": {
        "id": "EyFiPYM3SN1b"
      },
      "id": "EyFiPYM3SN1b"
    },
    {
      "cell_type": "code",
      "execution_count": null,
      "id": "990f5ebc",
      "metadata": {
        "id": "990f5ebc"
      },
      "outputs": [],
      "source": [
        "df.loc[:122,'region']='Bejaia'\n",
        "df.loc[122:,'region']='Siddi-bel Abbes'"
      ]
    },
    {
      "cell_type": "code",
      "execution_count": null,
      "id": "9cf674a2",
      "metadata": {
        "colab": {
          "base_uri": "https://localhost:8080/"
        },
        "id": "9cf674a2",
        "outputId": "c95ce6d8-6af3-47fb-9d50-4384e0bb43e4"
      },
      "outputs": [
        {
          "output_type": "execute_result",
          "data": {
            "text/plain": [
              "Index(['day', 'month', 'year', 'Temperature', ' RH', ' Ws', 'Rain ', 'FFMC',\n",
              "       'DMC', 'DC', 'ISI', 'BUI', 'FWI', 'Classes  ', 'region'],\n",
              "      dtype='object')"
            ]
          },
          "metadata": {},
          "execution_count": 11
        }
      ],
      "source": [
        "df.columns"
      ]
    },
    {
      "cell_type": "markdown",
      "source": [
        "**STRIPING THE NAMES OF COLUMN**"
      ],
      "metadata": {
        "id": "tFZzyUzfSjpM"
      },
      "id": "tFZzyUzfSjpM"
    },
    {
      "cell_type": "code",
      "execution_count": null,
      "id": "e8d10e32",
      "metadata": {
        "colab": {
          "base_uri": "https://localhost:8080/"
        },
        "id": "e8d10e32",
        "outputId": "f832612e-51dd-4bcc-ff7f-8dd3e97ed7a5"
      },
      "outputs": [
        {
          "output_type": "execute_result",
          "data": {
            "text/plain": [
              "Index(['day', 'month', 'year', 'Temperature', 'RH', 'Ws', 'Rain', 'FFMC',\n",
              "       'DMC', 'DC', 'ISI', 'BUI', 'FWI', 'Classes', 'region'],\n",
              "      dtype='object')"
            ]
          },
          "metadata": {},
          "execution_count": 12
        }
      ],
      "source": [
        "df.columns=[i.strip() for i in df.columns]\n",
        "df.columns"
      ]
    },
    {
      "cell_type": "markdown",
      "source": [
        "**STRIPING THE CLASSES FEATURES DATA**"
      ],
      "metadata": {
        "id": "cihsKz6lSuqI"
      },
      "id": "cihsKz6lSuqI"
    },
    {
      "cell_type": "code",
      "execution_count": null,
      "id": "c4426f73",
      "metadata": {
        "colab": {
          "base_uri": "https://localhost:8080/"
        },
        "id": "c4426f73",
        "outputId": "5d301d9b-48c4-41db-85b4-c47d31a123a4"
      },
      "outputs": [
        {
          "output_type": "execute_result",
          "data": {
            "text/plain": [
              "array(['not fire', 'fire', 'Classes', nan], dtype=object)"
            ]
          },
          "metadata": {},
          "execution_count": 13
        }
      ],
      "source": [
        "df.Classes=df.Classes.str.strip()\n",
        "df['Classes'].unique()"
      ]
    },
    {
      "cell_type": "code",
      "execution_count": null,
      "id": "8890b7a2",
      "metadata": {
        "colab": {
          "base_uri": "https://localhost:8080/",
          "height": 206
        },
        "id": "8890b7a2",
        "outputId": "91e118dd-67dc-4931-b546-6e3501d1d2c9"
      },
      "outputs": [
        {
          "output_type": "execute_result",
          "data": {
            "text/plain": [
              "  day month  year Temperature  RH  Ws  Rain  FFMC  DMC    DC  ISI  BUI  FWI  \\\n",
              "0   1     6  2012          29  57  18     0  65.7  3.4   7.6  1.3  3.4  0.5   \n",
              "1   2     6  2012          29  61  13   1.3  64.4  4.1   7.6    1  3.9  0.4   \n",
              "2   3     6  2012          26  82  22  13.1  47.1  2.5   7.1  0.3  2.7  0.1   \n",
              "3   4     6  2012          25  89  13   2.5  28.6  1.3   6.9    0  1.7    0   \n",
              "4   5     6  2012          27  77  16     0  64.8    3  14.2  1.2  3.9  0.5   \n",
              "\n",
              "    Classes  region  \n",
              "0  not fire  Bejaia  \n",
              "1  not fire  Bejaia  \n",
              "2  not fire  Bejaia  \n",
              "3  not fire  Bejaia  \n",
              "4  not fire  Bejaia  "
            ],
            "text/html": [
              "\n",
              "  <div id=\"df-75413dd5-9f55-4919-8f33-466dd95c5579\">\n",
              "    <div class=\"colab-df-container\">\n",
              "      <div>\n",
              "<style scoped>\n",
              "    .dataframe tbody tr th:only-of-type {\n",
              "        vertical-align: middle;\n",
              "    }\n",
              "\n",
              "    .dataframe tbody tr th {\n",
              "        vertical-align: top;\n",
              "    }\n",
              "\n",
              "    .dataframe thead th {\n",
              "        text-align: right;\n",
              "    }\n",
              "</style>\n",
              "<table border=\"1\" class=\"dataframe\">\n",
              "  <thead>\n",
              "    <tr style=\"text-align: right;\">\n",
              "      <th></th>\n",
              "      <th>day</th>\n",
              "      <th>month</th>\n",
              "      <th>year</th>\n",
              "      <th>Temperature</th>\n",
              "      <th>RH</th>\n",
              "      <th>Ws</th>\n",
              "      <th>Rain</th>\n",
              "      <th>FFMC</th>\n",
              "      <th>DMC</th>\n",
              "      <th>DC</th>\n",
              "      <th>ISI</th>\n",
              "      <th>BUI</th>\n",
              "      <th>FWI</th>\n",
              "      <th>Classes</th>\n",
              "      <th>region</th>\n",
              "    </tr>\n",
              "  </thead>\n",
              "  <tbody>\n",
              "    <tr>\n",
              "      <th>0</th>\n",
              "      <td>1</td>\n",
              "      <td>6</td>\n",
              "      <td>2012</td>\n",
              "      <td>29</td>\n",
              "      <td>57</td>\n",
              "      <td>18</td>\n",
              "      <td>0</td>\n",
              "      <td>65.7</td>\n",
              "      <td>3.4</td>\n",
              "      <td>7.6</td>\n",
              "      <td>1.3</td>\n",
              "      <td>3.4</td>\n",
              "      <td>0.5</td>\n",
              "      <td>not fire</td>\n",
              "      <td>Bejaia</td>\n",
              "    </tr>\n",
              "    <tr>\n",
              "      <th>1</th>\n",
              "      <td>2</td>\n",
              "      <td>6</td>\n",
              "      <td>2012</td>\n",
              "      <td>29</td>\n",
              "      <td>61</td>\n",
              "      <td>13</td>\n",
              "      <td>1.3</td>\n",
              "      <td>64.4</td>\n",
              "      <td>4.1</td>\n",
              "      <td>7.6</td>\n",
              "      <td>1</td>\n",
              "      <td>3.9</td>\n",
              "      <td>0.4</td>\n",
              "      <td>not fire</td>\n",
              "      <td>Bejaia</td>\n",
              "    </tr>\n",
              "    <tr>\n",
              "      <th>2</th>\n",
              "      <td>3</td>\n",
              "      <td>6</td>\n",
              "      <td>2012</td>\n",
              "      <td>26</td>\n",
              "      <td>82</td>\n",
              "      <td>22</td>\n",
              "      <td>13.1</td>\n",
              "      <td>47.1</td>\n",
              "      <td>2.5</td>\n",
              "      <td>7.1</td>\n",
              "      <td>0.3</td>\n",
              "      <td>2.7</td>\n",
              "      <td>0.1</td>\n",
              "      <td>not fire</td>\n",
              "      <td>Bejaia</td>\n",
              "    </tr>\n",
              "    <tr>\n",
              "      <th>3</th>\n",
              "      <td>4</td>\n",
              "      <td>6</td>\n",
              "      <td>2012</td>\n",
              "      <td>25</td>\n",
              "      <td>89</td>\n",
              "      <td>13</td>\n",
              "      <td>2.5</td>\n",
              "      <td>28.6</td>\n",
              "      <td>1.3</td>\n",
              "      <td>6.9</td>\n",
              "      <td>0</td>\n",
              "      <td>1.7</td>\n",
              "      <td>0</td>\n",
              "      <td>not fire</td>\n",
              "      <td>Bejaia</td>\n",
              "    </tr>\n",
              "    <tr>\n",
              "      <th>4</th>\n",
              "      <td>5</td>\n",
              "      <td>6</td>\n",
              "      <td>2012</td>\n",
              "      <td>27</td>\n",
              "      <td>77</td>\n",
              "      <td>16</td>\n",
              "      <td>0</td>\n",
              "      <td>64.8</td>\n",
              "      <td>3</td>\n",
              "      <td>14.2</td>\n",
              "      <td>1.2</td>\n",
              "      <td>3.9</td>\n",
              "      <td>0.5</td>\n",
              "      <td>not fire</td>\n",
              "      <td>Bejaia</td>\n",
              "    </tr>\n",
              "  </tbody>\n",
              "</table>\n",
              "</div>\n",
              "      <button class=\"colab-df-convert\" onclick=\"convertToInteractive('df-75413dd5-9f55-4919-8f33-466dd95c5579')\"\n",
              "              title=\"Convert this dataframe to an interactive table.\"\n",
              "              style=\"display:none;\">\n",
              "        \n",
              "  <svg xmlns=\"http://www.w3.org/2000/svg\" height=\"24px\"viewBox=\"0 0 24 24\"\n",
              "       width=\"24px\">\n",
              "    <path d=\"M0 0h24v24H0V0z\" fill=\"none\"/>\n",
              "    <path d=\"M18.56 5.44l.94 2.06.94-2.06 2.06-.94-2.06-.94-.94-2.06-.94 2.06-2.06.94zm-11 1L8.5 8.5l.94-2.06 2.06-.94-2.06-.94L8.5 2.5l-.94 2.06-2.06.94zm10 10l.94 2.06.94-2.06 2.06-.94-2.06-.94-.94-2.06-.94 2.06-2.06.94z\"/><path d=\"M17.41 7.96l-1.37-1.37c-.4-.4-.92-.59-1.43-.59-.52 0-1.04.2-1.43.59L10.3 9.45l-7.72 7.72c-.78.78-.78 2.05 0 2.83L4 21.41c.39.39.9.59 1.41.59.51 0 1.02-.2 1.41-.59l7.78-7.78 2.81-2.81c.8-.78.8-2.07 0-2.86zM5.41 20L4 18.59l7.72-7.72 1.47 1.35L5.41 20z\"/>\n",
              "  </svg>\n",
              "      </button>\n",
              "      \n",
              "  <style>\n",
              "    .colab-df-container {\n",
              "      display:flex;\n",
              "      flex-wrap:wrap;\n",
              "      gap: 12px;\n",
              "    }\n",
              "\n",
              "    .colab-df-convert {\n",
              "      background-color: #E8F0FE;\n",
              "      border: none;\n",
              "      border-radius: 50%;\n",
              "      cursor: pointer;\n",
              "      display: none;\n",
              "      fill: #1967D2;\n",
              "      height: 32px;\n",
              "      padding: 0 0 0 0;\n",
              "      width: 32px;\n",
              "    }\n",
              "\n",
              "    .colab-df-convert:hover {\n",
              "      background-color: #E2EBFA;\n",
              "      box-shadow: 0px 1px 2px rgba(60, 64, 67, 0.3), 0px 1px 3px 1px rgba(60, 64, 67, 0.15);\n",
              "      fill: #174EA6;\n",
              "    }\n",
              "\n",
              "    [theme=dark] .colab-df-convert {\n",
              "      background-color: #3B4455;\n",
              "      fill: #D2E3FC;\n",
              "    }\n",
              "\n",
              "    [theme=dark] .colab-df-convert:hover {\n",
              "      background-color: #434B5C;\n",
              "      box-shadow: 0px 1px 3px 1px rgba(0, 0, 0, 0.15);\n",
              "      filter: drop-shadow(0px 1px 2px rgba(0, 0, 0, 0.3));\n",
              "      fill: #FFFFFF;\n",
              "    }\n",
              "  </style>\n",
              "\n",
              "      <script>\n",
              "        const buttonEl =\n",
              "          document.querySelector('#df-75413dd5-9f55-4919-8f33-466dd95c5579 button.colab-df-convert');\n",
              "        buttonEl.style.display =\n",
              "          google.colab.kernel.accessAllowed ? 'block' : 'none';\n",
              "\n",
              "        async function convertToInteractive(key) {\n",
              "          const element = document.querySelector('#df-75413dd5-9f55-4919-8f33-466dd95c5579');\n",
              "          const dataTable =\n",
              "            await google.colab.kernel.invokeFunction('convertToInteractive',\n",
              "                                                     [key], {});\n",
              "          if (!dataTable) return;\n",
              "\n",
              "          const docLinkHtml = 'Like what you see? Visit the ' +\n",
              "            '<a target=\"_blank\" href=https://colab.research.google.com/notebooks/data_table.ipynb>data table notebook</a>'\n",
              "            + ' to learn more about interactive tables.';\n",
              "          element.innerHTML = '';\n",
              "          dataTable['output_type'] = 'display_data';\n",
              "          await google.colab.output.renderOutput(dataTable, element);\n",
              "          const docLink = document.createElement('div');\n",
              "          docLink.innerHTML = docLinkHtml;\n",
              "          element.appendChild(docLink);\n",
              "        }\n",
              "      </script>\n",
              "    </div>\n",
              "  </div>\n",
              "  "
            ]
          },
          "metadata": {},
          "execution_count": 14
        }
      ],
      "source": [
        "df.head()"
      ]
    },
    {
      "cell_type": "markdown",
      "source": [
        "**CHANGING THE DATA TYPE OF DATASET**"
      ],
      "metadata": {
        "id": "TBDVhhyBTGDg"
      },
      "id": "TBDVhhyBTGDg"
    },
    {
      "cell_type": "code",
      "source": [
        "df['day']=df['day'].astype(int)"
      ],
      "metadata": {
        "colab": {
          "base_uri": "https://localhost:8080/",
          "height": 224
        },
        "id": "8eB467UIgw3V",
        "outputId": "6b13cf8a-3e44-4a16-f087-a477285a2ac4"
      },
      "id": "8eB467UIgw3V",
      "execution_count": null,
      "outputs": [
        {
          "output_type": "error",
          "ename": "ValueError",
          "evalue": "ignored",
          "traceback": [
            "\u001b[0;31m---------------------------------------------------------------------------\u001b[0m",
            "\u001b[0;31mValueError\u001b[0m                                Traceback (most recent call last)",
            "\u001b[0;32m<ipython-input-21-660fe9271f9a>\u001b[0m in \u001b[0;36m<module>\u001b[0;34m\u001b[0m\n\u001b[0;32m----> 1\u001b[0;31m \u001b[0mdf\u001b[0m\u001b[0;34m[\u001b[0m\u001b[0;34m'day'\u001b[0m\u001b[0;34m]\u001b[0m\u001b[0;34m=\u001b[0m\u001b[0mdf\u001b[0m\u001b[0;34m[\u001b[0m\u001b[0;34m'day'\u001b[0m\u001b[0;34m]\u001b[0m\u001b[0;34m.\u001b[0m\u001b[0mastype\u001b[0m\u001b[0;34m(\u001b[0m\u001b[0mint\u001b[0m\u001b[0;34m)\u001b[0m\u001b[0;34m\u001b[0m\u001b[0;34m\u001b[0m\u001b[0m\n\u001b[0m",
            "\u001b[0;32m/usr/local/lib/python3.7/dist-packages/pandas/core/generic.py\u001b[0m in \u001b[0;36mastype\u001b[0;34m(self, dtype, copy, errors)\u001b[0m\n\u001b[1;32m   5813\u001b[0m         \u001b[0;32melse\u001b[0m\u001b[0;34m:\u001b[0m\u001b[0;34m\u001b[0m\u001b[0;34m\u001b[0m\u001b[0m\n\u001b[1;32m   5814\u001b[0m             \u001b[0;31m# else, only a single dtype is given\u001b[0m\u001b[0;34m\u001b[0m\u001b[0;34m\u001b[0m\u001b[0;34m\u001b[0m\u001b[0m\n\u001b[0;32m-> 5815\u001b[0;31m             \u001b[0mnew_data\u001b[0m \u001b[0;34m=\u001b[0m \u001b[0mself\u001b[0m\u001b[0;34m.\u001b[0m\u001b[0m_mgr\u001b[0m\u001b[0;34m.\u001b[0m\u001b[0mastype\u001b[0m\u001b[0;34m(\u001b[0m\u001b[0mdtype\u001b[0m\u001b[0;34m=\u001b[0m\u001b[0mdtype\u001b[0m\u001b[0;34m,\u001b[0m \u001b[0mcopy\u001b[0m\u001b[0;34m=\u001b[0m\u001b[0mcopy\u001b[0m\u001b[0;34m,\u001b[0m \u001b[0merrors\u001b[0m\u001b[0;34m=\u001b[0m\u001b[0merrors\u001b[0m\u001b[0;34m)\u001b[0m\u001b[0;34m\u001b[0m\u001b[0;34m\u001b[0m\u001b[0m\n\u001b[0m\u001b[1;32m   5816\u001b[0m             \u001b[0;32mreturn\u001b[0m \u001b[0mself\u001b[0m\u001b[0;34m.\u001b[0m\u001b[0m_constructor\u001b[0m\u001b[0;34m(\u001b[0m\u001b[0mnew_data\u001b[0m\u001b[0;34m)\u001b[0m\u001b[0;34m.\u001b[0m\u001b[0m__finalize__\u001b[0m\u001b[0;34m(\u001b[0m\u001b[0mself\u001b[0m\u001b[0;34m,\u001b[0m \u001b[0mmethod\u001b[0m\u001b[0;34m=\u001b[0m\u001b[0;34m\"astype\"\u001b[0m\u001b[0;34m)\u001b[0m\u001b[0;34m\u001b[0m\u001b[0;34m\u001b[0m\u001b[0m\n\u001b[1;32m   5817\u001b[0m \u001b[0;34m\u001b[0m\u001b[0m\n",
            "\u001b[0;32m/usr/local/lib/python3.7/dist-packages/pandas/core/internals/managers.py\u001b[0m in \u001b[0;36mastype\u001b[0;34m(self, dtype, copy, errors)\u001b[0m\n\u001b[1;32m    416\u001b[0m \u001b[0;34m\u001b[0m\u001b[0m\n\u001b[1;32m    417\u001b[0m     \u001b[0;32mdef\u001b[0m \u001b[0mastype\u001b[0m\u001b[0;34m(\u001b[0m\u001b[0mself\u001b[0m\u001b[0;34m:\u001b[0m \u001b[0mT\u001b[0m\u001b[0;34m,\u001b[0m \u001b[0mdtype\u001b[0m\u001b[0;34m,\u001b[0m \u001b[0mcopy\u001b[0m\u001b[0;34m:\u001b[0m \u001b[0mbool\u001b[0m \u001b[0;34m=\u001b[0m \u001b[0;32mFalse\u001b[0m\u001b[0;34m,\u001b[0m \u001b[0merrors\u001b[0m\u001b[0;34m:\u001b[0m \u001b[0mstr\u001b[0m \u001b[0;34m=\u001b[0m \u001b[0;34m\"raise\"\u001b[0m\u001b[0;34m)\u001b[0m \u001b[0;34m->\u001b[0m \u001b[0mT\u001b[0m\u001b[0;34m:\u001b[0m\u001b[0;34m\u001b[0m\u001b[0;34m\u001b[0m\u001b[0m\n\u001b[0;32m--> 418\u001b[0;31m         \u001b[0;32mreturn\u001b[0m \u001b[0mself\u001b[0m\u001b[0;34m.\u001b[0m\u001b[0mapply\u001b[0m\u001b[0;34m(\u001b[0m\u001b[0;34m\"astype\"\u001b[0m\u001b[0;34m,\u001b[0m \u001b[0mdtype\u001b[0m\u001b[0;34m=\u001b[0m\u001b[0mdtype\u001b[0m\u001b[0;34m,\u001b[0m \u001b[0mcopy\u001b[0m\u001b[0;34m=\u001b[0m\u001b[0mcopy\u001b[0m\u001b[0;34m,\u001b[0m \u001b[0merrors\u001b[0m\u001b[0;34m=\u001b[0m\u001b[0merrors\u001b[0m\u001b[0;34m)\u001b[0m\u001b[0;34m\u001b[0m\u001b[0;34m\u001b[0m\u001b[0m\n\u001b[0m\u001b[1;32m    419\u001b[0m \u001b[0;34m\u001b[0m\u001b[0m\n\u001b[1;32m    420\u001b[0m     def convert(\n",
            "\u001b[0;32m/usr/local/lib/python3.7/dist-packages/pandas/core/internals/managers.py\u001b[0m in \u001b[0;36mapply\u001b[0;34m(self, f, align_keys, ignore_failures, **kwargs)\u001b[0m\n\u001b[1;32m    325\u001b[0m                     \u001b[0mapplied\u001b[0m \u001b[0;34m=\u001b[0m \u001b[0mb\u001b[0m\u001b[0;34m.\u001b[0m\u001b[0mapply\u001b[0m\u001b[0;34m(\u001b[0m\u001b[0mf\u001b[0m\u001b[0;34m,\u001b[0m \u001b[0;34m**\u001b[0m\u001b[0mkwargs\u001b[0m\u001b[0;34m)\u001b[0m\u001b[0;34m\u001b[0m\u001b[0;34m\u001b[0m\u001b[0m\n\u001b[1;32m    326\u001b[0m                 \u001b[0;32melse\u001b[0m\u001b[0;34m:\u001b[0m\u001b[0;34m\u001b[0m\u001b[0;34m\u001b[0m\u001b[0m\n\u001b[0;32m--> 327\u001b[0;31m                     \u001b[0mapplied\u001b[0m \u001b[0;34m=\u001b[0m \u001b[0mgetattr\u001b[0m\u001b[0;34m(\u001b[0m\u001b[0mb\u001b[0m\u001b[0;34m,\u001b[0m \u001b[0mf\u001b[0m\u001b[0;34m)\u001b[0m\u001b[0;34m(\u001b[0m\u001b[0;34m**\u001b[0m\u001b[0mkwargs\u001b[0m\u001b[0;34m)\u001b[0m\u001b[0;34m\u001b[0m\u001b[0;34m\u001b[0m\u001b[0m\n\u001b[0m\u001b[1;32m    328\u001b[0m             \u001b[0;32mexcept\u001b[0m \u001b[0;34m(\u001b[0m\u001b[0mTypeError\u001b[0m\u001b[0;34m,\u001b[0m \u001b[0mNotImplementedError\u001b[0m\u001b[0;34m)\u001b[0m\u001b[0;34m:\u001b[0m\u001b[0;34m\u001b[0m\u001b[0;34m\u001b[0m\u001b[0m\n\u001b[1;32m    329\u001b[0m                 \u001b[0;32mif\u001b[0m \u001b[0;32mnot\u001b[0m \u001b[0mignore_failures\u001b[0m\u001b[0;34m:\u001b[0m\u001b[0;34m\u001b[0m\u001b[0;34m\u001b[0m\u001b[0m\n",
            "\u001b[0;32m/usr/local/lib/python3.7/dist-packages/pandas/core/internals/blocks.py\u001b[0m in \u001b[0;36mastype\u001b[0;34m(self, dtype, copy, errors)\u001b[0m\n\u001b[1;32m    589\u001b[0m         \u001b[0mvalues\u001b[0m \u001b[0;34m=\u001b[0m \u001b[0mself\u001b[0m\u001b[0;34m.\u001b[0m\u001b[0mvalues\u001b[0m\u001b[0;34m\u001b[0m\u001b[0;34m\u001b[0m\u001b[0m\n\u001b[1;32m    590\u001b[0m \u001b[0;34m\u001b[0m\u001b[0m\n\u001b[0;32m--> 591\u001b[0;31m         \u001b[0mnew_values\u001b[0m \u001b[0;34m=\u001b[0m \u001b[0mastype_array_safe\u001b[0m\u001b[0;34m(\u001b[0m\u001b[0mvalues\u001b[0m\u001b[0;34m,\u001b[0m \u001b[0mdtype\u001b[0m\u001b[0;34m,\u001b[0m \u001b[0mcopy\u001b[0m\u001b[0;34m=\u001b[0m\u001b[0mcopy\u001b[0m\u001b[0;34m,\u001b[0m \u001b[0merrors\u001b[0m\u001b[0;34m=\u001b[0m\u001b[0merrors\u001b[0m\u001b[0;34m)\u001b[0m\u001b[0;34m\u001b[0m\u001b[0;34m\u001b[0m\u001b[0m\n\u001b[0m\u001b[1;32m    592\u001b[0m \u001b[0;34m\u001b[0m\u001b[0m\n\u001b[1;32m    593\u001b[0m         \u001b[0mnew_values\u001b[0m \u001b[0;34m=\u001b[0m \u001b[0mmaybe_coerce_values\u001b[0m\u001b[0;34m(\u001b[0m\u001b[0mnew_values\u001b[0m\u001b[0;34m)\u001b[0m\u001b[0;34m\u001b[0m\u001b[0;34m\u001b[0m\u001b[0m\n",
            "\u001b[0;32m/usr/local/lib/python3.7/dist-packages/pandas/core/dtypes/cast.py\u001b[0m in \u001b[0;36mastype_array_safe\u001b[0;34m(values, dtype, copy, errors)\u001b[0m\n\u001b[1;32m   1307\u001b[0m \u001b[0;34m\u001b[0m\u001b[0m\n\u001b[1;32m   1308\u001b[0m     \u001b[0;32mtry\u001b[0m\u001b[0;34m:\u001b[0m\u001b[0;34m\u001b[0m\u001b[0;34m\u001b[0m\u001b[0m\n\u001b[0;32m-> 1309\u001b[0;31m         \u001b[0mnew_values\u001b[0m \u001b[0;34m=\u001b[0m \u001b[0mastype_array\u001b[0m\u001b[0;34m(\u001b[0m\u001b[0mvalues\u001b[0m\u001b[0;34m,\u001b[0m \u001b[0mdtype\u001b[0m\u001b[0;34m,\u001b[0m \u001b[0mcopy\u001b[0m\u001b[0;34m=\u001b[0m\u001b[0mcopy\u001b[0m\u001b[0;34m)\u001b[0m\u001b[0;34m\u001b[0m\u001b[0;34m\u001b[0m\u001b[0m\n\u001b[0m\u001b[1;32m   1310\u001b[0m     \u001b[0;32mexcept\u001b[0m \u001b[0;34m(\u001b[0m\u001b[0mValueError\u001b[0m\u001b[0;34m,\u001b[0m \u001b[0mTypeError\u001b[0m\u001b[0;34m)\u001b[0m\u001b[0;34m:\u001b[0m\u001b[0;34m\u001b[0m\u001b[0;34m\u001b[0m\u001b[0m\n\u001b[1;32m   1311\u001b[0m         \u001b[0;31m# e.g. astype_nansafe can fail on object-dtype of strings\u001b[0m\u001b[0;34m\u001b[0m\u001b[0;34m\u001b[0m\u001b[0;34m\u001b[0m\u001b[0m\n",
            "\u001b[0;32m/usr/local/lib/python3.7/dist-packages/pandas/core/dtypes/cast.py\u001b[0m in \u001b[0;36mastype_array\u001b[0;34m(values, dtype, copy)\u001b[0m\n\u001b[1;32m   1255\u001b[0m \u001b[0;34m\u001b[0m\u001b[0m\n\u001b[1;32m   1256\u001b[0m     \u001b[0;32melse\u001b[0m\u001b[0;34m:\u001b[0m\u001b[0;34m\u001b[0m\u001b[0;34m\u001b[0m\u001b[0m\n\u001b[0;32m-> 1257\u001b[0;31m         \u001b[0mvalues\u001b[0m \u001b[0;34m=\u001b[0m \u001b[0mastype_nansafe\u001b[0m\u001b[0;34m(\u001b[0m\u001b[0mvalues\u001b[0m\u001b[0;34m,\u001b[0m \u001b[0mdtype\u001b[0m\u001b[0;34m,\u001b[0m \u001b[0mcopy\u001b[0m\u001b[0;34m=\u001b[0m\u001b[0mcopy\u001b[0m\u001b[0;34m)\u001b[0m\u001b[0;34m\u001b[0m\u001b[0;34m\u001b[0m\u001b[0m\n\u001b[0m\u001b[1;32m   1258\u001b[0m \u001b[0;34m\u001b[0m\u001b[0m\n\u001b[1;32m   1259\u001b[0m     \u001b[0;31m# in pandas we don't store numpy str dtypes, so convert to object\u001b[0m\u001b[0;34m\u001b[0m\u001b[0;34m\u001b[0m\u001b[0;34m\u001b[0m\u001b[0m\n",
            "\u001b[0;32m/usr/local/lib/python3.7/dist-packages/pandas/core/dtypes/cast.py\u001b[0m in \u001b[0;36mastype_nansafe\u001b[0;34m(arr, dtype, copy, skipna)\u001b[0m\n\u001b[1;32m   1172\u001b[0m         \u001b[0;31m# work around NumPy brokenness, #1987\u001b[0m\u001b[0;34m\u001b[0m\u001b[0;34m\u001b[0m\u001b[0;34m\u001b[0m\u001b[0m\n\u001b[1;32m   1173\u001b[0m         \u001b[0;32mif\u001b[0m \u001b[0mnp\u001b[0m\u001b[0;34m.\u001b[0m\u001b[0missubdtype\u001b[0m\u001b[0;34m(\u001b[0m\u001b[0mdtype\u001b[0m\u001b[0;34m.\u001b[0m\u001b[0mtype\u001b[0m\u001b[0;34m,\u001b[0m \u001b[0mnp\u001b[0m\u001b[0;34m.\u001b[0m\u001b[0minteger\u001b[0m\u001b[0;34m)\u001b[0m\u001b[0;34m:\u001b[0m\u001b[0;34m\u001b[0m\u001b[0;34m\u001b[0m\u001b[0m\n\u001b[0;32m-> 1174\u001b[0;31m             \u001b[0;32mreturn\u001b[0m \u001b[0mlib\u001b[0m\u001b[0;34m.\u001b[0m\u001b[0mastype_intsafe\u001b[0m\u001b[0;34m(\u001b[0m\u001b[0marr\u001b[0m\u001b[0;34m,\u001b[0m \u001b[0mdtype\u001b[0m\u001b[0;34m)\u001b[0m\u001b[0;34m\u001b[0m\u001b[0;34m\u001b[0m\u001b[0m\n\u001b[0m\u001b[1;32m   1175\u001b[0m \u001b[0;34m\u001b[0m\u001b[0m\n\u001b[1;32m   1176\u001b[0m         \u001b[0;31m# if we have a datetime/timedelta array of objects\u001b[0m\u001b[0;34m\u001b[0m\u001b[0;34m\u001b[0m\u001b[0;34m\u001b[0m\u001b[0m\n",
            "\u001b[0;32m/usr/local/lib/python3.7/dist-packages/pandas/_libs/lib.pyx\u001b[0m in \u001b[0;36mpandas._libs.lib.astype_intsafe\u001b[0;34m()\u001b[0m\n",
            "\u001b[0;31mValueError\u001b[0m: invalid literal for int() with base 10: 'day'"
          ]
        }
      ]
    },
    {
      "cell_type": "markdown",
      "source": [
        "**ADDING NEW FEATURE , NAMED DATE BY REPLAICING UNNESSARY FEATURE LIKE DAY,MONTH ,YEAR**"
      ],
      "metadata": {
        "id": "wW6viYzHTomS"
      },
      "id": "wW6viYzHTomS"
    },
    {
      "cell_type": "code",
      "execution_count": null,
      "id": "b85c583d",
      "metadata": {
        "colab": {
          "base_uri": "https://localhost:8080/",
          "height": 293
        },
        "id": "b85c583d",
        "outputId": "251a987b-9d16-4d7c-e0df-8fcf3a6a8791"
      },
      "outputs": [
        {
          "output_type": "error",
          "ename": "ValueError",
          "evalue": "ignored",
          "traceback": [
            "\u001b[0;31m---------------------------------------------------------------------------\u001b[0m",
            "\u001b[0;31mValueError\u001b[0m                                Traceback (most recent call last)",
            "\u001b[0;32m/usr/local/lib/python3.7/dist-packages/pandas/_libs/lib.pyx\u001b[0m in \u001b[0;36mpandas._libs.lib.maybe_convert_numeric\u001b[0;34m()\u001b[0m\n",
            "\u001b[0;31mValueError\u001b[0m: Unable to parse string \"year\"",
            "\nDuring handling of the above exception, another exception occurred:\n",
            "\u001b[0;31mValueError\u001b[0m                                Traceback (most recent call last)",
            "\u001b[0;32m<ipython-input-18-b1bb80af4e06>\u001b[0m in \u001b[0;36m<module>\u001b[0;34m\u001b[0m\n\u001b[0;32m----> 1\u001b[0;31m \u001b[0mdf\u001b[0m\u001b[0;34m[\u001b[0m\u001b[0;34m'date'\u001b[0m\u001b[0;34m]\u001b[0m\u001b[0;34m=\u001b[0m\u001b[0mpd\u001b[0m\u001b[0;34m.\u001b[0m\u001b[0mto_datetime\u001b[0m\u001b[0;34m(\u001b[0m\u001b[0mdf\u001b[0m\u001b[0;34m[\u001b[0m\u001b[0;34m[\u001b[0m\u001b[0;34m\"day\"\u001b[0m\u001b[0;34m,\u001b[0m\u001b[0;34m\"month\"\u001b[0m\u001b[0;34m,\u001b[0m\u001b[0;34m\"year\"\u001b[0m\u001b[0;34m]\u001b[0m\u001b[0;34m]\u001b[0m\u001b[0;34m)\u001b[0m\u001b[0;34m\u001b[0m\u001b[0;34m\u001b[0m\u001b[0m\n\u001b[0m\u001b[1;32m      2\u001b[0m \u001b[0mdf\u001b[0m\u001b[0;34m.\u001b[0m\u001b[0mdrop\u001b[0m\u001b[0;34m(\u001b[0m\u001b[0;34m[\u001b[0m\u001b[0;34m\"day\"\u001b[0m\u001b[0;34m,\u001b[0m\u001b[0;34m\"month\"\u001b[0m\u001b[0;34m,\u001b[0m\u001b[0;34m\"year\"\u001b[0m\u001b[0;34m]\u001b[0m\u001b[0;34m,\u001b[0m\u001b[0maxis\u001b[0m \u001b[0;34m=\u001b[0m \u001b[0;36m1\u001b[0m \u001b[0;34m,\u001b[0m \u001b[0minplace\u001b[0m \u001b[0;34m=\u001b[0m \u001b[0;32mTrue\u001b[0m\u001b[0;34m)\u001b[0m\u001b[0;34m\u001b[0m\u001b[0;34m\u001b[0m\u001b[0m\n",
            "\u001b[0;32m/usr/local/lib/python3.7/dist-packages/pandas/core/tools/datetimes.py\u001b[0m in \u001b[0;36mto_datetime\u001b[0;34m(arg, errors, dayfirst, yearfirst, utc, format, exact, unit, infer_datetime_format, origin, cache)\u001b[0m\n\u001b[1;32m    888\u001b[0m             \u001b[0mresult\u001b[0m \u001b[0;34m=\u001b[0m \u001b[0marg\u001b[0m\u001b[0;34m.\u001b[0m\u001b[0m_constructor\u001b[0m\u001b[0;34m(\u001b[0m\u001b[0mvalues\u001b[0m\u001b[0;34m,\u001b[0m \u001b[0mindex\u001b[0m\u001b[0;34m=\u001b[0m\u001b[0marg\u001b[0m\u001b[0;34m.\u001b[0m\u001b[0mindex\u001b[0m\u001b[0;34m,\u001b[0m \u001b[0mname\u001b[0m\u001b[0;34m=\u001b[0m\u001b[0marg\u001b[0m\u001b[0;34m.\u001b[0m\u001b[0mname\u001b[0m\u001b[0;34m)\u001b[0m\u001b[0;34m\u001b[0m\u001b[0;34m\u001b[0m\u001b[0m\n\u001b[1;32m    889\u001b[0m     \u001b[0;32melif\u001b[0m \u001b[0misinstance\u001b[0m\u001b[0;34m(\u001b[0m\u001b[0marg\u001b[0m\u001b[0;34m,\u001b[0m \u001b[0;34m(\u001b[0m\u001b[0mABCDataFrame\u001b[0m\u001b[0;34m,\u001b[0m \u001b[0mabc\u001b[0m\u001b[0;34m.\u001b[0m\u001b[0mMutableMapping\u001b[0m\u001b[0;34m)\u001b[0m\u001b[0;34m)\u001b[0m\u001b[0;34m:\u001b[0m\u001b[0;34m\u001b[0m\u001b[0;34m\u001b[0m\u001b[0m\n\u001b[0;32m--> 890\u001b[0;31m         \u001b[0mresult\u001b[0m \u001b[0;34m=\u001b[0m \u001b[0m_assemble_from_unit_mappings\u001b[0m\u001b[0;34m(\u001b[0m\u001b[0marg\u001b[0m\u001b[0;34m,\u001b[0m \u001b[0merrors\u001b[0m\u001b[0;34m,\u001b[0m \u001b[0mtz\u001b[0m\u001b[0;34m)\u001b[0m\u001b[0;34m\u001b[0m\u001b[0;34m\u001b[0m\u001b[0m\n\u001b[0m\u001b[1;32m    891\u001b[0m     \u001b[0;32melif\u001b[0m \u001b[0misinstance\u001b[0m\u001b[0;34m(\u001b[0m\u001b[0marg\u001b[0m\u001b[0;34m,\u001b[0m \u001b[0mIndex\u001b[0m\u001b[0;34m)\u001b[0m\u001b[0;34m:\u001b[0m\u001b[0;34m\u001b[0m\u001b[0;34m\u001b[0m\u001b[0m\n\u001b[1;32m    892\u001b[0m         \u001b[0mcache_array\u001b[0m \u001b[0;34m=\u001b[0m \u001b[0m_maybe_cache\u001b[0m\u001b[0;34m(\u001b[0m\u001b[0marg\u001b[0m\u001b[0;34m,\u001b[0m \u001b[0mformat\u001b[0m\u001b[0;34m,\u001b[0m \u001b[0mcache\u001b[0m\u001b[0;34m,\u001b[0m \u001b[0mconvert_listlike\u001b[0m\u001b[0;34m)\u001b[0m\u001b[0;34m\u001b[0m\u001b[0;34m\u001b[0m\u001b[0m\n",
            "\u001b[0;32m/usr/local/lib/python3.7/dist-packages/pandas/core/tools/datetimes.py\u001b[0m in \u001b[0;36m_assemble_from_unit_mappings\u001b[0;34m(arg, errors, tz)\u001b[0m\n\u001b[1;32m   1019\u001b[0m         \u001b[0mcoerce\u001b[0m\u001b[0;34m(\u001b[0m\u001b[0marg\u001b[0m\u001b[0;34m[\u001b[0m\u001b[0munit_rev\u001b[0m\u001b[0;34m[\u001b[0m\u001b[0;34m\"year\"\u001b[0m\u001b[0;34m]\u001b[0m\u001b[0;34m]\u001b[0m\u001b[0;34m)\u001b[0m \u001b[0;34m*\u001b[0m \u001b[0;36m10000\u001b[0m\u001b[0;34m\u001b[0m\u001b[0;34m\u001b[0m\u001b[0m\n\u001b[1;32m   1020\u001b[0m         \u001b[0;34m+\u001b[0m \u001b[0mcoerce\u001b[0m\u001b[0;34m(\u001b[0m\u001b[0marg\u001b[0m\u001b[0;34m[\u001b[0m\u001b[0munit_rev\u001b[0m\u001b[0;34m[\u001b[0m\u001b[0;34m\"month\"\u001b[0m\u001b[0;34m]\u001b[0m\u001b[0;34m]\u001b[0m\u001b[0;34m)\u001b[0m \u001b[0;34m*\u001b[0m \u001b[0;36m100\u001b[0m\u001b[0;34m\u001b[0m\u001b[0;34m\u001b[0m\u001b[0m\n\u001b[0;32m-> 1021\u001b[0;31m         \u001b[0;34m+\u001b[0m \u001b[0mcoerce\u001b[0m\u001b[0;34m(\u001b[0m\u001b[0marg\u001b[0m\u001b[0;34m[\u001b[0m\u001b[0munit_rev\u001b[0m\u001b[0;34m[\u001b[0m\u001b[0;34m\"day\"\u001b[0m\u001b[0;34m]\u001b[0m\u001b[0;34m]\u001b[0m\u001b[0;34m)\u001b[0m\u001b[0;34m\u001b[0m\u001b[0;34m\u001b[0m\u001b[0m\n\u001b[0m\u001b[1;32m   1022\u001b[0m     )\n\u001b[1;32m   1023\u001b[0m     \u001b[0;32mtry\u001b[0m\u001b[0;34m:\u001b[0m\u001b[0;34m\u001b[0m\u001b[0;34m\u001b[0m\u001b[0m\n",
            "\u001b[0;32m/usr/local/lib/python3.7/dist-packages/pandas/core/tools/datetimes.py\u001b[0m in \u001b[0;36mcoerce\u001b[0;34m(values)\u001b[0m\n\u001b[1;32m   1009\u001b[0m     \u001b[0;32mdef\u001b[0m \u001b[0mcoerce\u001b[0m\u001b[0;34m(\u001b[0m\u001b[0mvalues\u001b[0m\u001b[0;34m)\u001b[0m\u001b[0;34m:\u001b[0m\u001b[0;34m\u001b[0m\u001b[0;34m\u001b[0m\u001b[0m\n\u001b[1;32m   1010\u001b[0m         \u001b[0;31m# we allow coercion to if errors allows\u001b[0m\u001b[0;34m\u001b[0m\u001b[0;34m\u001b[0m\u001b[0;34m\u001b[0m\u001b[0m\n\u001b[0;32m-> 1011\u001b[0;31m         \u001b[0mvalues\u001b[0m \u001b[0;34m=\u001b[0m \u001b[0mto_numeric\u001b[0m\u001b[0;34m(\u001b[0m\u001b[0mvalues\u001b[0m\u001b[0;34m,\u001b[0m \u001b[0merrors\u001b[0m\u001b[0;34m=\u001b[0m\u001b[0merrors\u001b[0m\u001b[0;34m)\u001b[0m\u001b[0;34m\u001b[0m\u001b[0;34m\u001b[0m\u001b[0m\n\u001b[0m\u001b[1;32m   1012\u001b[0m \u001b[0;34m\u001b[0m\u001b[0m\n\u001b[1;32m   1013\u001b[0m         \u001b[0;31m# prevent overflow in case of int8 or int16\u001b[0m\u001b[0;34m\u001b[0m\u001b[0;34m\u001b[0m\u001b[0;34m\u001b[0m\u001b[0m\n",
            "\u001b[0;32m/usr/local/lib/python3.7/dist-packages/pandas/core/tools/numeric.py\u001b[0m in \u001b[0;36mto_numeric\u001b[0;34m(arg, errors, downcast)\u001b[0m\n\u001b[1;32m    182\u001b[0m         \u001b[0;32mtry\u001b[0m\u001b[0;34m:\u001b[0m\u001b[0;34m\u001b[0m\u001b[0;34m\u001b[0m\u001b[0m\n\u001b[1;32m    183\u001b[0m             values, _ = lib.maybe_convert_numeric(\n\u001b[0;32m--> 184\u001b[0;31m                 \u001b[0mvalues\u001b[0m\u001b[0;34m,\u001b[0m \u001b[0mset\u001b[0m\u001b[0;34m(\u001b[0m\u001b[0;34m)\u001b[0m\u001b[0;34m,\u001b[0m \u001b[0mcoerce_numeric\u001b[0m\u001b[0;34m=\u001b[0m\u001b[0mcoerce_numeric\u001b[0m\u001b[0;34m\u001b[0m\u001b[0;34m\u001b[0m\u001b[0m\n\u001b[0m\u001b[1;32m    185\u001b[0m             )\n\u001b[1;32m    186\u001b[0m         \u001b[0;32mexcept\u001b[0m \u001b[0;34m(\u001b[0m\u001b[0mValueError\u001b[0m\u001b[0;34m,\u001b[0m \u001b[0mTypeError\u001b[0m\u001b[0;34m)\u001b[0m\u001b[0;34m:\u001b[0m\u001b[0;34m\u001b[0m\u001b[0;34m\u001b[0m\u001b[0m\n",
            "\u001b[0;32m/usr/local/lib/python3.7/dist-packages/pandas/_libs/lib.pyx\u001b[0m in \u001b[0;36mpandas._libs.lib.maybe_convert_numeric\u001b[0;34m()\u001b[0m\n",
            "\u001b[0;31mValueError\u001b[0m: Unable to parse string \"year\" at position 122"
          ]
        }
      ],
      "source": [
        "df['date']=pd.to_datetime(df[[\"day\",\"month\",\"year\"]])\n",
        "df.drop([\"day\",\"month\",\"year\"],axis = 1 , inplace = True)"
      ]
    },
    {
      "cell_type": "markdown",
      "source": [
        "**SHOWING UPDATED DATASET AFTER MODIFICATION DONE**"
      ],
      "metadata": {
        "id": "yphTJInsT6OI"
      },
      "id": "yphTJInsT6OI"
    },
    {
      "cell_type": "code",
      "execution_count": null,
      "id": "91fa6153",
      "metadata": {
        "colab": {
          "base_uri": "https://localhost:8080/",
          "height": 206
        },
        "id": "91fa6153",
        "outputId": "55a13d05-a7e6-4fc5-cfcb-94dacfb75f4f"
      },
      "outputs": [
        {
          "output_type": "execute_result",
          "data": {
            "text/plain": [
              "  day month  year Temperature  RH  Ws  Rain  FFMC  DMC    DC  ISI  BUI  FWI  \\\n",
              "0   1     6  2012          29  57  18     0  65.7  3.4   7.6  1.3  3.4  0.5   \n",
              "1   2     6  2012          29  61  13   1.3  64.4  4.1   7.6    1  3.9  0.4   \n",
              "2   3     6  2012          26  82  22  13.1  47.1  2.5   7.1  0.3  2.7  0.1   \n",
              "3   4     6  2012          25  89  13   2.5  28.6  1.3   6.9    0  1.7    0   \n",
              "4   5     6  2012          27  77  16     0  64.8    3  14.2  1.2  3.9  0.5   \n",
              "\n",
              "    Classes  region  \n",
              "0  not fire  Bejaia  \n",
              "1  not fire  Bejaia  \n",
              "2  not fire  Bejaia  \n",
              "3  not fire  Bejaia  \n",
              "4  not fire  Bejaia  "
            ],
            "text/html": [
              "\n",
              "  <div id=\"df-eeba145b-e584-40fd-88e0-833ef443383a\">\n",
              "    <div class=\"colab-df-container\">\n",
              "      <div>\n",
              "<style scoped>\n",
              "    .dataframe tbody tr th:only-of-type {\n",
              "        vertical-align: middle;\n",
              "    }\n",
              "\n",
              "    .dataframe tbody tr th {\n",
              "        vertical-align: top;\n",
              "    }\n",
              "\n",
              "    .dataframe thead th {\n",
              "        text-align: right;\n",
              "    }\n",
              "</style>\n",
              "<table border=\"1\" class=\"dataframe\">\n",
              "  <thead>\n",
              "    <tr style=\"text-align: right;\">\n",
              "      <th></th>\n",
              "      <th>day</th>\n",
              "      <th>month</th>\n",
              "      <th>year</th>\n",
              "      <th>Temperature</th>\n",
              "      <th>RH</th>\n",
              "      <th>Ws</th>\n",
              "      <th>Rain</th>\n",
              "      <th>FFMC</th>\n",
              "      <th>DMC</th>\n",
              "      <th>DC</th>\n",
              "      <th>ISI</th>\n",
              "      <th>BUI</th>\n",
              "      <th>FWI</th>\n",
              "      <th>Classes</th>\n",
              "      <th>region</th>\n",
              "    </tr>\n",
              "  </thead>\n",
              "  <tbody>\n",
              "    <tr>\n",
              "      <th>0</th>\n",
              "      <td>1</td>\n",
              "      <td>6</td>\n",
              "      <td>2012</td>\n",
              "      <td>29</td>\n",
              "      <td>57</td>\n",
              "      <td>18</td>\n",
              "      <td>0</td>\n",
              "      <td>65.7</td>\n",
              "      <td>3.4</td>\n",
              "      <td>7.6</td>\n",
              "      <td>1.3</td>\n",
              "      <td>3.4</td>\n",
              "      <td>0.5</td>\n",
              "      <td>not fire</td>\n",
              "      <td>Bejaia</td>\n",
              "    </tr>\n",
              "    <tr>\n",
              "      <th>1</th>\n",
              "      <td>2</td>\n",
              "      <td>6</td>\n",
              "      <td>2012</td>\n",
              "      <td>29</td>\n",
              "      <td>61</td>\n",
              "      <td>13</td>\n",
              "      <td>1.3</td>\n",
              "      <td>64.4</td>\n",
              "      <td>4.1</td>\n",
              "      <td>7.6</td>\n",
              "      <td>1</td>\n",
              "      <td>3.9</td>\n",
              "      <td>0.4</td>\n",
              "      <td>not fire</td>\n",
              "      <td>Bejaia</td>\n",
              "    </tr>\n",
              "    <tr>\n",
              "      <th>2</th>\n",
              "      <td>3</td>\n",
              "      <td>6</td>\n",
              "      <td>2012</td>\n",
              "      <td>26</td>\n",
              "      <td>82</td>\n",
              "      <td>22</td>\n",
              "      <td>13.1</td>\n",
              "      <td>47.1</td>\n",
              "      <td>2.5</td>\n",
              "      <td>7.1</td>\n",
              "      <td>0.3</td>\n",
              "      <td>2.7</td>\n",
              "      <td>0.1</td>\n",
              "      <td>not fire</td>\n",
              "      <td>Bejaia</td>\n",
              "    </tr>\n",
              "    <tr>\n",
              "      <th>3</th>\n",
              "      <td>4</td>\n",
              "      <td>6</td>\n",
              "      <td>2012</td>\n",
              "      <td>25</td>\n",
              "      <td>89</td>\n",
              "      <td>13</td>\n",
              "      <td>2.5</td>\n",
              "      <td>28.6</td>\n",
              "      <td>1.3</td>\n",
              "      <td>6.9</td>\n",
              "      <td>0</td>\n",
              "      <td>1.7</td>\n",
              "      <td>0</td>\n",
              "      <td>not fire</td>\n",
              "      <td>Bejaia</td>\n",
              "    </tr>\n",
              "    <tr>\n",
              "      <th>4</th>\n",
              "      <td>5</td>\n",
              "      <td>6</td>\n",
              "      <td>2012</td>\n",
              "      <td>27</td>\n",
              "      <td>77</td>\n",
              "      <td>16</td>\n",
              "      <td>0</td>\n",
              "      <td>64.8</td>\n",
              "      <td>3</td>\n",
              "      <td>14.2</td>\n",
              "      <td>1.2</td>\n",
              "      <td>3.9</td>\n",
              "      <td>0.5</td>\n",
              "      <td>not fire</td>\n",
              "      <td>Bejaia</td>\n",
              "    </tr>\n",
              "  </tbody>\n",
              "</table>\n",
              "</div>\n",
              "      <button class=\"colab-df-convert\" onclick=\"convertToInteractive('df-eeba145b-e584-40fd-88e0-833ef443383a')\"\n",
              "              title=\"Convert this dataframe to an interactive table.\"\n",
              "              style=\"display:none;\">\n",
              "        \n",
              "  <svg xmlns=\"http://www.w3.org/2000/svg\" height=\"24px\"viewBox=\"0 0 24 24\"\n",
              "       width=\"24px\">\n",
              "    <path d=\"M0 0h24v24H0V0z\" fill=\"none\"/>\n",
              "    <path d=\"M18.56 5.44l.94 2.06.94-2.06 2.06-.94-2.06-.94-.94-2.06-.94 2.06-2.06.94zm-11 1L8.5 8.5l.94-2.06 2.06-.94-2.06-.94L8.5 2.5l-.94 2.06-2.06.94zm10 10l.94 2.06.94-2.06 2.06-.94-2.06-.94-.94-2.06-.94 2.06-2.06.94z\"/><path d=\"M17.41 7.96l-1.37-1.37c-.4-.4-.92-.59-1.43-.59-.52 0-1.04.2-1.43.59L10.3 9.45l-7.72 7.72c-.78.78-.78 2.05 0 2.83L4 21.41c.39.39.9.59 1.41.59.51 0 1.02-.2 1.41-.59l7.78-7.78 2.81-2.81c.8-.78.8-2.07 0-2.86zM5.41 20L4 18.59l7.72-7.72 1.47 1.35L5.41 20z\"/>\n",
              "  </svg>\n",
              "      </button>\n",
              "      \n",
              "  <style>\n",
              "    .colab-df-container {\n",
              "      display:flex;\n",
              "      flex-wrap:wrap;\n",
              "      gap: 12px;\n",
              "    }\n",
              "\n",
              "    .colab-df-convert {\n",
              "      background-color: #E8F0FE;\n",
              "      border: none;\n",
              "      border-radius: 50%;\n",
              "      cursor: pointer;\n",
              "      display: none;\n",
              "      fill: #1967D2;\n",
              "      height: 32px;\n",
              "      padding: 0 0 0 0;\n",
              "      width: 32px;\n",
              "    }\n",
              "\n",
              "    .colab-df-convert:hover {\n",
              "      background-color: #E2EBFA;\n",
              "      box-shadow: 0px 1px 2px rgba(60, 64, 67, 0.3), 0px 1px 3px 1px rgba(60, 64, 67, 0.15);\n",
              "      fill: #174EA6;\n",
              "    }\n",
              "\n",
              "    [theme=dark] .colab-df-convert {\n",
              "      background-color: #3B4455;\n",
              "      fill: #D2E3FC;\n",
              "    }\n",
              "\n",
              "    [theme=dark] .colab-df-convert:hover {\n",
              "      background-color: #434B5C;\n",
              "      box-shadow: 0px 1px 3px 1px rgba(0, 0, 0, 0.15);\n",
              "      filter: drop-shadow(0px 1px 2px rgba(0, 0, 0, 0.3));\n",
              "      fill: #FFFFFF;\n",
              "    }\n",
              "  </style>\n",
              "\n",
              "      <script>\n",
              "        const buttonEl =\n",
              "          document.querySelector('#df-eeba145b-e584-40fd-88e0-833ef443383a button.colab-df-convert');\n",
              "        buttonEl.style.display =\n",
              "          google.colab.kernel.accessAllowed ? 'block' : 'none';\n",
              "\n",
              "        async function convertToInteractive(key) {\n",
              "          const element = document.querySelector('#df-eeba145b-e584-40fd-88e0-833ef443383a');\n",
              "          const dataTable =\n",
              "            await google.colab.kernel.invokeFunction('convertToInteractive',\n",
              "                                                     [key], {});\n",
              "          if (!dataTable) return;\n",
              "\n",
              "          const docLinkHtml = 'Like what you see? Visit the ' +\n",
              "            '<a target=\"_blank\" href=https://colab.research.google.com/notebooks/data_table.ipynb>data table notebook</a>'\n",
              "            + ' to learn more about interactive tables.';\n",
              "          element.innerHTML = '';\n",
              "          dataTable['output_type'] = 'display_data';\n",
              "          await google.colab.output.renderOutput(dataTable, element);\n",
              "          const docLink = document.createElement('div');\n",
              "          docLink.innerHTML = docLinkHtml;\n",
              "          element.appendChild(docLink);\n",
              "        }\n",
              "      </script>\n",
              "    </div>\n",
              "  </div>\n",
              "  "
            ]
          },
          "metadata": {},
          "execution_count": 19
        }
      ],
      "source": [
        "df.head()"
      ]
    },
    {
      "cell_type": "markdown",
      "source": [
        "# EXPLORING THE DATA"
      ],
      "metadata": {
        "id": "b73pjv8qUJ5d"
      },
      "id": "b73pjv8qUJ5d"
    },
    {
      "cell_type": "markdown",
      "source": [
        "**PROFILE OF THE DATA\n",
        "  \n",
        "  SHAPE OF THE DATA**"
      ],
      "metadata": {
        "id": "67R_PhuFUScG"
      },
      "id": "67R_PhuFUScG"
    },
    {
      "cell_type": "code",
      "execution_count": null,
      "id": "76c88011",
      "metadata": {
        "colab": {
          "base_uri": "https://localhost:8080/"
        },
        "id": "76c88011",
        "outputId": "804f3b0f-32b3-4f92-b4a8-f424db2e0311"
      },
      "outputs": [
        {
          "output_type": "execute_result",
          "data": {
            "text/plain": [
              "(245, 15)"
            ]
          },
          "metadata": {},
          "execution_count": 20
        }
      ],
      "source": [
        "df.shape"
      ]
    },
    {
      "cell_type": "markdown",
      "source": [
        "\n",
        "\n",
        "```\n",
        "# OBSERVATION\n",
        "\n",
        "  In this dataset there are 13 Column and 144 rows\n",
        "```\n",
        "\n"
      ],
      "metadata": {
        "id": "HKxm3C6sUkgZ"
      },
      "id": "HKxm3C6sUkgZ"
    },
    {
      "cell_type": "markdown",
      "source": [
        "\n",
        "\n",
        "```\n",
        "Column of the dataset\n",
        "```\n",
        "\n"
      ],
      "metadata": {
        "id": "wjf7iftqU5Rx"
      },
      "id": "wjf7iftqU5Rx"
    },
    {
      "cell_type": "code",
      "execution_count": null,
      "id": "4878c3d1",
      "metadata": {
        "colab": {
          "base_uri": "https://localhost:8080/"
        },
        "id": "4878c3d1",
        "outputId": "7909e498-38eb-4e44-9e09-ec6543b916ab"
      },
      "outputs": [
        {
          "output_type": "execute_result",
          "data": {
            "text/plain": [
              "Index(['day', 'month', 'year', 'Temperature', 'RH', 'Ws', 'Rain', 'FFMC',\n",
              "       'DMC', 'DC', 'ISI', 'BUI', 'FWI', 'Classes', 'region'],\n",
              "      dtype='object')"
            ]
          },
          "metadata": {},
          "execution_count": 21
        }
      ],
      "source": [
        "df.columns"
      ]
    },
    {
      "cell_type": "markdown",
      "source": [
        "\n",
        "\n",
        "```\n",
        "Check mising value in Dataset\n",
        "```\n",
        "\n"
      ],
      "metadata": {
        "id": "CI3g4FwUVCJL"
      },
      "id": "CI3g4FwUVCJL"
    },
    {
      "cell_type": "code",
      "execution_count": null,
      "id": "3135f477",
      "metadata": {
        "colab": {
          "base_uri": "https://localhost:8080/"
        },
        "id": "3135f477",
        "outputId": "5d099bd8-ea94-49df-bd79-c606c473d1a5"
      },
      "outputs": [
        {
          "output_type": "execute_result",
          "data": {
            "text/plain": [
              "day            0\n",
              "month          0\n",
              "year           0\n",
              "Temperature    0\n",
              "RH             0\n",
              "Ws             0\n",
              "Rain           0\n",
              "FFMC           0\n",
              "DMC            0\n",
              "DC             0\n",
              "ISI            0\n",
              "BUI            0\n",
              "FWI            0\n",
              "Classes        1\n",
              "region         0\n",
              "dtype: int64"
            ]
          },
          "metadata": {},
          "execution_count": 22
        }
      ],
      "source": [
        "df.isnull().sum()"
      ]
    },
    {
      "cell_type": "markdown",
      "source": [
        "\n",
        "\n",
        "```\n",
        "# Observation \n",
        "\n",
        "  we got one null values in Classes feature \n",
        "```\n",
        "\n"
      ],
      "metadata": {
        "id": "-HJe7X_aVLdw"
      },
      "id": "-HJe7X_aVLdw"
    },
    {
      "cell_type": "markdown",
      "source": [
        "**Handling with categorical feature **"
      ],
      "metadata": {
        "id": "I8u7ZgtgVaDy"
      },
      "id": "I8u7ZgtgVaDy"
    },
    {
      "cell_type": "code",
      "execution_count": null,
      "id": "55113531",
      "metadata": {
        "colab": {
          "base_uri": "https://localhost:8080/",
          "height": 206
        },
        "id": "55113531",
        "outputId": "bd7adcef-0091-4f2f-a46f-21faeea06be9"
      },
      "outputs": [
        {
          "output_type": "execute_result",
          "data": {
            "text/plain": [
              "  day month  year Temperature  RH  Ws  Rain  FFMC  DMC    DC  ISI  BUI  FWI  \\\n",
              "0   1     6  2012          29  57  18     0  65.7  3.4   7.6  1.3  3.4  0.5   \n",
              "1   2     6  2012          29  61  13   1.3  64.4  4.1   7.6    1  3.9  0.4   \n",
              "2   3     6  2012          26  82  22  13.1  47.1  2.5   7.1  0.3  2.7  0.1   \n",
              "3   4     6  2012          25  89  13   2.5  28.6  1.3   6.9    0  1.7    0   \n",
              "4   5     6  2012          27  77  16     0  64.8    3  14.2  1.2  3.9  0.5   \n",
              "\n",
              "   Classes  region  \n",
              "0      0.0  Bejaia  \n",
              "1      0.0  Bejaia  \n",
              "2      0.0  Bejaia  \n",
              "3      0.0  Bejaia  \n",
              "4      0.0  Bejaia  "
            ],
            "text/html": [
              "\n",
              "  <div id=\"df-3c18d71c-7938-4293-980a-b8dde74b5e96\">\n",
              "    <div class=\"colab-df-container\">\n",
              "      <div>\n",
              "<style scoped>\n",
              "    .dataframe tbody tr th:only-of-type {\n",
              "        vertical-align: middle;\n",
              "    }\n",
              "\n",
              "    .dataframe tbody tr th {\n",
              "        vertical-align: top;\n",
              "    }\n",
              "\n",
              "    .dataframe thead th {\n",
              "        text-align: right;\n",
              "    }\n",
              "</style>\n",
              "<table border=\"1\" class=\"dataframe\">\n",
              "  <thead>\n",
              "    <tr style=\"text-align: right;\">\n",
              "      <th></th>\n",
              "      <th>day</th>\n",
              "      <th>month</th>\n",
              "      <th>year</th>\n",
              "      <th>Temperature</th>\n",
              "      <th>RH</th>\n",
              "      <th>Ws</th>\n",
              "      <th>Rain</th>\n",
              "      <th>FFMC</th>\n",
              "      <th>DMC</th>\n",
              "      <th>DC</th>\n",
              "      <th>ISI</th>\n",
              "      <th>BUI</th>\n",
              "      <th>FWI</th>\n",
              "      <th>Classes</th>\n",
              "      <th>region</th>\n",
              "    </tr>\n",
              "  </thead>\n",
              "  <tbody>\n",
              "    <tr>\n",
              "      <th>0</th>\n",
              "      <td>1</td>\n",
              "      <td>6</td>\n",
              "      <td>2012</td>\n",
              "      <td>29</td>\n",
              "      <td>57</td>\n",
              "      <td>18</td>\n",
              "      <td>0</td>\n",
              "      <td>65.7</td>\n",
              "      <td>3.4</td>\n",
              "      <td>7.6</td>\n",
              "      <td>1.3</td>\n",
              "      <td>3.4</td>\n",
              "      <td>0.5</td>\n",
              "      <td>0.0</td>\n",
              "      <td>Bejaia</td>\n",
              "    </tr>\n",
              "    <tr>\n",
              "      <th>1</th>\n",
              "      <td>2</td>\n",
              "      <td>6</td>\n",
              "      <td>2012</td>\n",
              "      <td>29</td>\n",
              "      <td>61</td>\n",
              "      <td>13</td>\n",
              "      <td>1.3</td>\n",
              "      <td>64.4</td>\n",
              "      <td>4.1</td>\n",
              "      <td>7.6</td>\n",
              "      <td>1</td>\n",
              "      <td>3.9</td>\n",
              "      <td>0.4</td>\n",
              "      <td>0.0</td>\n",
              "      <td>Bejaia</td>\n",
              "    </tr>\n",
              "    <tr>\n",
              "      <th>2</th>\n",
              "      <td>3</td>\n",
              "      <td>6</td>\n",
              "      <td>2012</td>\n",
              "      <td>26</td>\n",
              "      <td>82</td>\n",
              "      <td>22</td>\n",
              "      <td>13.1</td>\n",
              "      <td>47.1</td>\n",
              "      <td>2.5</td>\n",
              "      <td>7.1</td>\n",
              "      <td>0.3</td>\n",
              "      <td>2.7</td>\n",
              "      <td>0.1</td>\n",
              "      <td>0.0</td>\n",
              "      <td>Bejaia</td>\n",
              "    </tr>\n",
              "    <tr>\n",
              "      <th>3</th>\n",
              "      <td>4</td>\n",
              "      <td>6</td>\n",
              "      <td>2012</td>\n",
              "      <td>25</td>\n",
              "      <td>89</td>\n",
              "      <td>13</td>\n",
              "      <td>2.5</td>\n",
              "      <td>28.6</td>\n",
              "      <td>1.3</td>\n",
              "      <td>6.9</td>\n",
              "      <td>0</td>\n",
              "      <td>1.7</td>\n",
              "      <td>0</td>\n",
              "      <td>0.0</td>\n",
              "      <td>Bejaia</td>\n",
              "    </tr>\n",
              "    <tr>\n",
              "      <th>4</th>\n",
              "      <td>5</td>\n",
              "      <td>6</td>\n",
              "      <td>2012</td>\n",
              "      <td>27</td>\n",
              "      <td>77</td>\n",
              "      <td>16</td>\n",
              "      <td>0</td>\n",
              "      <td>64.8</td>\n",
              "      <td>3</td>\n",
              "      <td>14.2</td>\n",
              "      <td>1.2</td>\n",
              "      <td>3.9</td>\n",
              "      <td>0.5</td>\n",
              "      <td>0.0</td>\n",
              "      <td>Bejaia</td>\n",
              "    </tr>\n",
              "  </tbody>\n",
              "</table>\n",
              "</div>\n",
              "      <button class=\"colab-df-convert\" onclick=\"convertToInteractive('df-3c18d71c-7938-4293-980a-b8dde74b5e96')\"\n",
              "              title=\"Convert this dataframe to an interactive table.\"\n",
              "              style=\"display:none;\">\n",
              "        \n",
              "  <svg xmlns=\"http://www.w3.org/2000/svg\" height=\"24px\"viewBox=\"0 0 24 24\"\n",
              "       width=\"24px\">\n",
              "    <path d=\"M0 0h24v24H0V0z\" fill=\"none\"/>\n",
              "    <path d=\"M18.56 5.44l.94 2.06.94-2.06 2.06-.94-2.06-.94-.94-2.06-.94 2.06-2.06.94zm-11 1L8.5 8.5l.94-2.06 2.06-.94-2.06-.94L8.5 2.5l-.94 2.06-2.06.94zm10 10l.94 2.06.94-2.06 2.06-.94-2.06-.94-.94-2.06-.94 2.06-2.06.94z\"/><path d=\"M17.41 7.96l-1.37-1.37c-.4-.4-.92-.59-1.43-.59-.52 0-1.04.2-1.43.59L10.3 9.45l-7.72 7.72c-.78.78-.78 2.05 0 2.83L4 21.41c.39.39.9.59 1.41.59.51 0 1.02-.2 1.41-.59l7.78-7.78 2.81-2.81c.8-.78.8-2.07 0-2.86zM5.41 20L4 18.59l7.72-7.72 1.47 1.35L5.41 20z\"/>\n",
              "  </svg>\n",
              "      </button>\n",
              "      \n",
              "  <style>\n",
              "    .colab-df-container {\n",
              "      display:flex;\n",
              "      flex-wrap:wrap;\n",
              "      gap: 12px;\n",
              "    }\n",
              "\n",
              "    .colab-df-convert {\n",
              "      background-color: #E8F0FE;\n",
              "      border: none;\n",
              "      border-radius: 50%;\n",
              "      cursor: pointer;\n",
              "      display: none;\n",
              "      fill: #1967D2;\n",
              "      height: 32px;\n",
              "      padding: 0 0 0 0;\n",
              "      width: 32px;\n",
              "    }\n",
              "\n",
              "    .colab-df-convert:hover {\n",
              "      background-color: #E2EBFA;\n",
              "      box-shadow: 0px 1px 2px rgba(60, 64, 67, 0.3), 0px 1px 3px 1px rgba(60, 64, 67, 0.15);\n",
              "      fill: #174EA6;\n",
              "    }\n",
              "\n",
              "    [theme=dark] .colab-df-convert {\n",
              "      background-color: #3B4455;\n",
              "      fill: #D2E3FC;\n",
              "    }\n",
              "\n",
              "    [theme=dark] .colab-df-convert:hover {\n",
              "      background-color: #434B5C;\n",
              "      box-shadow: 0px 1px 3px 1px rgba(0, 0, 0, 0.15);\n",
              "      filter: drop-shadow(0px 1px 2px rgba(0, 0, 0, 0.3));\n",
              "      fill: #FFFFFF;\n",
              "    }\n",
              "  </style>\n",
              "\n",
              "      <script>\n",
              "        const buttonEl =\n",
              "          document.querySelector('#df-3c18d71c-7938-4293-980a-b8dde74b5e96 button.colab-df-convert');\n",
              "        buttonEl.style.display =\n",
              "          google.colab.kernel.accessAllowed ? 'block' : 'none';\n",
              "\n",
              "        async function convertToInteractive(key) {\n",
              "          const element = document.querySelector('#df-3c18d71c-7938-4293-980a-b8dde74b5e96');\n",
              "          const dataTable =\n",
              "            await google.colab.kernel.invokeFunction('convertToInteractive',\n",
              "                                                     [key], {});\n",
              "          if (!dataTable) return;\n",
              "\n",
              "          const docLinkHtml = 'Like what you see? Visit the ' +\n",
              "            '<a target=\"_blank\" href=https://colab.research.google.com/notebooks/data_table.ipynb>data table notebook</a>'\n",
              "            + ' to learn more about interactive tables.';\n",
              "          element.innerHTML = '';\n",
              "          dataTable['output_type'] = 'display_data';\n",
              "          await google.colab.output.renderOutput(dataTable, element);\n",
              "          const docLink = document.createElement('div');\n",
              "          docLink.innerHTML = docLinkHtml;\n",
              "          element.appendChild(docLink);\n",
              "        }\n",
              "      </script>\n",
              "    </div>\n",
              "  </div>\n",
              "  "
            ]
          },
          "metadata": {},
          "execution_count": 23
        }
      ],
      "source": [
        "df['Classes']=df['Classes'].map({'not fire':0,'fire':1})\n",
        "df.head()"
      ]
    },
    {
      "cell_type": "code",
      "execution_count": null,
      "id": "c9fb15ca",
      "metadata": {
        "colab": {
          "base_uri": "https://localhost:8080/"
        },
        "id": "c9fb15ca",
        "outputId": "a398a885-5edc-4d00-ebbf-f30d735da438"
      },
      "outputs": [
        {
          "output_type": "execute_result",
          "data": {
            "text/plain": [
              "0      0.0\n",
              "1      0.0\n",
              "2      0.0\n",
              "3      0.0\n",
              "4      0.0\n",
              "      ... \n",
              "240    1.0\n",
              "241    0.0\n",
              "242    0.0\n",
              "243    0.0\n",
              "244    0.0\n",
              "Name: Classes, Length: 245, dtype: float64"
            ]
          },
          "metadata": {},
          "execution_count": 24
        }
      ],
      "source": [
        "df['Classes']"
      ]
    },
    {
      "cell_type": "code",
      "execution_count": null,
      "id": "83a9aee9",
      "metadata": {
        "colab": {
          "base_uri": "https://localhost:8080/"
        },
        "id": "83a9aee9",
        "outputId": "92f45e41-fbd8-4f46-f557-d89958a0f2ca"
      },
      "outputs": [
        {
          "output_type": "execute_result",
          "data": {
            "text/plain": [
              "1.0"
            ]
          },
          "metadata": {},
          "execution_count": 25
        }
      ],
      "source": [
        "df['Classes'].mode()[0]"
      ]
    },
    {
      "cell_type": "markdown",
      "source": [
        "**Focus on Replacing Null value**"
      ],
      "metadata": {
        "id": "q0IRi8oSVniv"
      },
      "id": "q0IRi8oSVniv"
    },
    {
      "cell_type": "code",
      "execution_count": null,
      "id": "29f7823f",
      "metadata": {
        "id": "29f7823f"
      },
      "outputs": [],
      "source": [
        "df['Classes']=df['Classes'].fillna(df['Classes'].mode()[0])"
      ]
    },
    {
      "cell_type": "code",
      "execution_count": null,
      "id": "48fdffc5",
      "metadata": {
        "colab": {
          "base_uri": "https://localhost:8080/"
        },
        "id": "48fdffc5",
        "outputId": "e55fde53-c4ee-48a0-9d69-8be61ab16049"
      },
      "outputs": [
        {
          "output_type": "execute_result",
          "data": {
            "text/plain": [
              "day            0\n",
              "month          0\n",
              "year           0\n",
              "Temperature    0\n",
              "RH             0\n",
              "Ws             0\n",
              "Rain           0\n",
              "FFMC           0\n",
              "DMC            0\n",
              "DC             0\n",
              "ISI            0\n",
              "BUI            0\n",
              "FWI            0\n",
              "Classes        0\n",
              "region         0\n",
              "dtype: int64"
            ]
          },
          "metadata": {},
          "execution_count": 27
        }
      ],
      "source": [
        "df.isnull().sum()"
      ]
    },
    {
      "cell_type": "markdown",
      "source": [
        "**Obsevation**\n",
        "\n",
        "```\n",
        "After modification now we have Zero Null value in dataset\n",
        "```\n",
        "\n",
        "**"
      ],
      "metadata": {
        "id": "U-wN7-TxV6tj"
      },
      "id": "U-wN7-TxV6tj"
    },
    {
      "cell_type": "code",
      "execution_count": null,
      "id": "77d2223d",
      "metadata": {
        "colab": {
          "base_uri": "https://localhost:8080/"
        },
        "id": "77d2223d",
        "outputId": "aafdba11-fc90-4010-9ac9-be2820ee0720"
      },
      "outputs": [
        {
          "output_type": "execute_result",
          "data": {
            "text/plain": [
              "array([0., 1.])"
            ]
          },
          "metadata": {},
          "execution_count": 28
        }
      ],
      "source": [
        "df['Classes'].unique()"
      ]
    },
    {
      "cell_type": "markdown",
      "source": [
        "**Check data type in Dataset**"
      ],
      "metadata": {
        "id": "-DR17o5MWV8y"
      },
      "id": "-DR17o5MWV8y"
    },
    {
      "cell_type": "code",
      "execution_count": null,
      "id": "4f966b70",
      "metadata": {
        "colab": {
          "base_uri": "https://localhost:8080/"
        },
        "id": "4f966b70",
        "outputId": "5d748624-cb0b-47ed-d318-ebebaca5aba1"
      },
      "outputs": [
        {
          "output_type": "stream",
          "name": "stdout",
          "text": [
            "<class 'pandas.core.frame.DataFrame'>\n",
            "RangeIndex: 245 entries, 0 to 244\n",
            "Data columns (total 15 columns):\n",
            " #   Column       Non-Null Count  Dtype  \n",
            "---  ------       --------------  -----  \n",
            " 0   day          245 non-null    object \n",
            " 1   month        245 non-null    object \n",
            " 2   year         245 non-null    object \n",
            " 3   Temperature  245 non-null    object \n",
            " 4   RH           245 non-null    object \n",
            " 5   Ws           245 non-null    object \n",
            " 6   Rain         245 non-null    object \n",
            " 7   FFMC         245 non-null    object \n",
            " 8   DMC          245 non-null    object \n",
            " 9   DC           245 non-null    object \n",
            " 10  ISI          245 non-null    object \n",
            " 11  BUI          245 non-null    object \n",
            " 12  FWI          245 non-null    object \n",
            " 13  Classes      245 non-null    float64\n",
            " 14  region       245 non-null    object \n",
            "dtypes: float64(1), object(14)\n",
            "memory usage: 28.8+ KB\n"
          ]
        }
      ],
      "source": [
        "df.info()"
      ]
    },
    {
      "cell_type": "markdown",
      "source": [
        "**Observation**\n",
        "\n",
        "\n",
        "```\n",
        "There is total 244 rows and 13 coumns.\n",
        "There are no Null value in DataSet \n",
        "There is total 4 data types float64 , int64 , object and datetime64.\n",
        "Dtype Include float64=7 Column , int64 = 2 Columns , object = 3 columns and datetime64 =1 \n",
        "Total Memory usage is 23.0+ KB\n",
        "```\n",
        "\n"
      ],
      "metadata": {
        "id": "mxq3B9b8Wpvk"
      },
      "id": "mxq3B9b8Wpvk"
    },
    {
      "cell_type": "code",
      "execution_count": null,
      "id": "86376b73",
      "metadata": {
        "colab": {
          "base_uri": "https://localhost:8080/"
        },
        "id": "86376b73",
        "outputId": "10a434a7-10ee-43aa-fe21-11bff8040b81"
      },
      "outputs": [
        {
          "output_type": "execute_result",
          "data": {
            "text/plain": [
              "Index           128\n",
              "day            1960\n",
              "month          1960\n",
              "year           1960\n",
              "Temperature    1960\n",
              "RH             1960\n",
              "Ws             1960\n",
              "Rain           1960\n",
              "FFMC           1960\n",
              "DMC            1960\n",
              "DC             1960\n",
              "ISI            1960\n",
              "BUI            1960\n",
              "FWI            1960\n",
              "Classes        1960\n",
              "region         1960\n",
              "dtype: int64"
            ]
          },
          "metadata": {},
          "execution_count": 30
        }
      ],
      "source": [
        "df.memory_usage()"
      ]
    },
    {
      "cell_type": "markdown",
      "source": [
        "**Numerical and Categorical Colulmns**\n",
        "\n",
        "```\n",
        "Numericals dataset\n",
        "```\n",
        "\n"
      ],
      "metadata": {
        "id": "HIf1h-q7MWmF"
      },
      "id": "HIf1h-q7MWmF"
    },
    {
      "cell_type": "code",
      "execution_count": null,
      "id": "29c459e6",
      "metadata": {
        "colab": {
          "base_uri": "https://localhost:8080/"
        },
        "id": "29c459e6",
        "outputId": "50059c38-b26d-4f6c-cb46-f9f35a1bc084"
      },
      "outputs": [
        {
          "output_type": "stream",
          "name": "stdout",
          "text": [
            "We have 1 numerical features : ['Classes']\n"
          ]
        }
      ],
      "source": [
        "num_fea = [fea for fea in df.columns if df[fea].dtypes != 'O']\n",
        "print('We have {} numerical features : {}'.format(len(num_fea),num_fea))"
      ]
    },
    {
      "cell_type": "markdown",
      "source": [
        "\n",
        "\n",
        "```\n",
        "Categorical dataset\n",
        "```\n",
        "\n"
      ],
      "metadata": {
        "id": "Ln-5_lcjMmzt"
      },
      "id": "Ln-5_lcjMmzt"
    },
    {
      "cell_type": "code",
      "execution_count": null,
      "id": "5799f388",
      "metadata": {
        "colab": {
          "base_uri": "https://localhost:8080/"
        },
        "id": "5799f388",
        "outputId": "23a94286-ded1-44b7-abf9-cd0976b868f0"
      },
      "outputs": [
        {
          "output_type": "stream",
          "name": "stdout",
          "text": [
            "We have 14 categorical features : ['day', 'month', 'year', 'Temperature', 'RH', 'Ws', 'Rain', 'FFMC', 'DMC', 'DC', 'ISI', 'BUI', 'FWI', 'region']\n"
          ]
        }
      ],
      "source": [
        "cat_fea = [fea for fea in df.columns if df[fea].dtypes == 'O']\n",
        "print('We have {} categorical features : {}'.format(len(cat_fea),cat_fea))"
      ]
    },
    {
      "cell_type": "markdown",
      "source": [
        "\n",
        "\n",
        "```\n",
        "Features Information\n",
        "```\n",
        "\n"
      ],
      "metadata": {
        "id": "JlBQK45eMuQa"
      },
      "id": "JlBQK45eMuQa"
    },
    {
      "cell_type": "code",
      "execution_count": null,
      "id": "3c6e496e",
      "metadata": {
        "colab": {
          "base_uri": "https://localhost:8080/",
          "height": 206
        },
        "id": "3c6e496e",
        "outputId": "cbf564ff-03af-4aad-cc66-eb584db05165"
      },
      "outputs": [
        {
          "output_type": "execute_result",
          "data": {
            "text/plain": [
              "  day month  year Temperature  RH  Ws  Rain  FFMC  DMC    DC  ISI  BUI  FWI  \\\n",
              "0   1     6  2012          29  57  18     0  65.7  3.4   7.6  1.3  3.4  0.5   \n",
              "1   2     6  2012          29  61  13   1.3  64.4  4.1   7.6    1  3.9  0.4   \n",
              "2   3     6  2012          26  82  22  13.1  47.1  2.5   7.1  0.3  2.7  0.1   \n",
              "3   4     6  2012          25  89  13   2.5  28.6  1.3   6.9    0  1.7    0   \n",
              "4   5     6  2012          27  77  16     0  64.8    3  14.2  1.2  3.9  0.5   \n",
              "\n",
              "   Classes  region  \n",
              "0      0.0  Bejaia  \n",
              "1      0.0  Bejaia  \n",
              "2      0.0  Bejaia  \n",
              "3      0.0  Bejaia  \n",
              "4      0.0  Bejaia  "
            ],
            "text/html": [
              "\n",
              "  <div id=\"df-b944e153-3b74-403f-8c2f-948a0c32d9fe\">\n",
              "    <div class=\"colab-df-container\">\n",
              "      <div>\n",
              "<style scoped>\n",
              "    .dataframe tbody tr th:only-of-type {\n",
              "        vertical-align: middle;\n",
              "    }\n",
              "\n",
              "    .dataframe tbody tr th {\n",
              "        vertical-align: top;\n",
              "    }\n",
              "\n",
              "    .dataframe thead th {\n",
              "        text-align: right;\n",
              "    }\n",
              "</style>\n",
              "<table border=\"1\" class=\"dataframe\">\n",
              "  <thead>\n",
              "    <tr style=\"text-align: right;\">\n",
              "      <th></th>\n",
              "      <th>day</th>\n",
              "      <th>month</th>\n",
              "      <th>year</th>\n",
              "      <th>Temperature</th>\n",
              "      <th>RH</th>\n",
              "      <th>Ws</th>\n",
              "      <th>Rain</th>\n",
              "      <th>FFMC</th>\n",
              "      <th>DMC</th>\n",
              "      <th>DC</th>\n",
              "      <th>ISI</th>\n",
              "      <th>BUI</th>\n",
              "      <th>FWI</th>\n",
              "      <th>Classes</th>\n",
              "      <th>region</th>\n",
              "    </tr>\n",
              "  </thead>\n",
              "  <tbody>\n",
              "    <tr>\n",
              "      <th>0</th>\n",
              "      <td>1</td>\n",
              "      <td>6</td>\n",
              "      <td>2012</td>\n",
              "      <td>29</td>\n",
              "      <td>57</td>\n",
              "      <td>18</td>\n",
              "      <td>0</td>\n",
              "      <td>65.7</td>\n",
              "      <td>3.4</td>\n",
              "      <td>7.6</td>\n",
              "      <td>1.3</td>\n",
              "      <td>3.4</td>\n",
              "      <td>0.5</td>\n",
              "      <td>0.0</td>\n",
              "      <td>Bejaia</td>\n",
              "    </tr>\n",
              "    <tr>\n",
              "      <th>1</th>\n",
              "      <td>2</td>\n",
              "      <td>6</td>\n",
              "      <td>2012</td>\n",
              "      <td>29</td>\n",
              "      <td>61</td>\n",
              "      <td>13</td>\n",
              "      <td>1.3</td>\n",
              "      <td>64.4</td>\n",
              "      <td>4.1</td>\n",
              "      <td>7.6</td>\n",
              "      <td>1</td>\n",
              "      <td>3.9</td>\n",
              "      <td>0.4</td>\n",
              "      <td>0.0</td>\n",
              "      <td>Bejaia</td>\n",
              "    </tr>\n",
              "    <tr>\n",
              "      <th>2</th>\n",
              "      <td>3</td>\n",
              "      <td>6</td>\n",
              "      <td>2012</td>\n",
              "      <td>26</td>\n",
              "      <td>82</td>\n",
              "      <td>22</td>\n",
              "      <td>13.1</td>\n",
              "      <td>47.1</td>\n",
              "      <td>2.5</td>\n",
              "      <td>7.1</td>\n",
              "      <td>0.3</td>\n",
              "      <td>2.7</td>\n",
              "      <td>0.1</td>\n",
              "      <td>0.0</td>\n",
              "      <td>Bejaia</td>\n",
              "    </tr>\n",
              "    <tr>\n",
              "      <th>3</th>\n",
              "      <td>4</td>\n",
              "      <td>6</td>\n",
              "      <td>2012</td>\n",
              "      <td>25</td>\n",
              "      <td>89</td>\n",
              "      <td>13</td>\n",
              "      <td>2.5</td>\n",
              "      <td>28.6</td>\n",
              "      <td>1.3</td>\n",
              "      <td>6.9</td>\n",
              "      <td>0</td>\n",
              "      <td>1.7</td>\n",
              "      <td>0</td>\n",
              "      <td>0.0</td>\n",
              "      <td>Bejaia</td>\n",
              "    </tr>\n",
              "    <tr>\n",
              "      <th>4</th>\n",
              "      <td>5</td>\n",
              "      <td>6</td>\n",
              "      <td>2012</td>\n",
              "      <td>27</td>\n",
              "      <td>77</td>\n",
              "      <td>16</td>\n",
              "      <td>0</td>\n",
              "      <td>64.8</td>\n",
              "      <td>3</td>\n",
              "      <td>14.2</td>\n",
              "      <td>1.2</td>\n",
              "      <td>3.9</td>\n",
              "      <td>0.5</td>\n",
              "      <td>0.0</td>\n",
              "      <td>Bejaia</td>\n",
              "    </tr>\n",
              "  </tbody>\n",
              "</table>\n",
              "</div>\n",
              "      <button class=\"colab-df-convert\" onclick=\"convertToInteractive('df-b944e153-3b74-403f-8c2f-948a0c32d9fe')\"\n",
              "              title=\"Convert this dataframe to an interactive table.\"\n",
              "              style=\"display:none;\">\n",
              "        \n",
              "  <svg xmlns=\"http://www.w3.org/2000/svg\" height=\"24px\"viewBox=\"0 0 24 24\"\n",
              "       width=\"24px\">\n",
              "    <path d=\"M0 0h24v24H0V0z\" fill=\"none\"/>\n",
              "    <path d=\"M18.56 5.44l.94 2.06.94-2.06 2.06-.94-2.06-.94-.94-2.06-.94 2.06-2.06.94zm-11 1L8.5 8.5l.94-2.06 2.06-.94-2.06-.94L8.5 2.5l-.94 2.06-2.06.94zm10 10l.94 2.06.94-2.06 2.06-.94-2.06-.94-.94-2.06-.94 2.06-2.06.94z\"/><path d=\"M17.41 7.96l-1.37-1.37c-.4-.4-.92-.59-1.43-.59-.52 0-1.04.2-1.43.59L10.3 9.45l-7.72 7.72c-.78.78-.78 2.05 0 2.83L4 21.41c.39.39.9.59 1.41.59.51 0 1.02-.2 1.41-.59l7.78-7.78 2.81-2.81c.8-.78.8-2.07 0-2.86zM5.41 20L4 18.59l7.72-7.72 1.47 1.35L5.41 20z\"/>\n",
              "  </svg>\n",
              "      </button>\n",
              "      \n",
              "  <style>\n",
              "    .colab-df-container {\n",
              "      display:flex;\n",
              "      flex-wrap:wrap;\n",
              "      gap: 12px;\n",
              "    }\n",
              "\n",
              "    .colab-df-convert {\n",
              "      background-color: #E8F0FE;\n",
              "      border: none;\n",
              "      border-radius: 50%;\n",
              "      cursor: pointer;\n",
              "      display: none;\n",
              "      fill: #1967D2;\n",
              "      height: 32px;\n",
              "      padding: 0 0 0 0;\n",
              "      width: 32px;\n",
              "    }\n",
              "\n",
              "    .colab-df-convert:hover {\n",
              "      background-color: #E2EBFA;\n",
              "      box-shadow: 0px 1px 2px rgba(60, 64, 67, 0.3), 0px 1px 3px 1px rgba(60, 64, 67, 0.15);\n",
              "      fill: #174EA6;\n",
              "    }\n",
              "\n",
              "    [theme=dark] .colab-df-convert {\n",
              "      background-color: #3B4455;\n",
              "      fill: #D2E3FC;\n",
              "    }\n",
              "\n",
              "    [theme=dark] .colab-df-convert:hover {\n",
              "      background-color: #434B5C;\n",
              "      box-shadow: 0px 1px 3px 1px rgba(0, 0, 0, 0.15);\n",
              "      filter: drop-shadow(0px 1px 2px rgba(0, 0, 0, 0.3));\n",
              "      fill: #FFFFFF;\n",
              "    }\n",
              "  </style>\n",
              "\n",
              "      <script>\n",
              "        const buttonEl =\n",
              "          document.querySelector('#df-b944e153-3b74-403f-8c2f-948a0c32d9fe button.colab-df-convert');\n",
              "        buttonEl.style.display =\n",
              "          google.colab.kernel.accessAllowed ? 'block' : 'none';\n",
              "\n",
              "        async function convertToInteractive(key) {\n",
              "          const element = document.querySelector('#df-b944e153-3b74-403f-8c2f-948a0c32d9fe');\n",
              "          const dataTable =\n",
              "            await google.colab.kernel.invokeFunction('convertToInteractive',\n",
              "                                                     [key], {});\n",
              "          if (!dataTable) return;\n",
              "\n",
              "          const docLinkHtml = 'Like what you see? Visit the ' +\n",
              "            '<a target=\"_blank\" href=https://colab.research.google.com/notebooks/data_table.ipynb>data table notebook</a>'\n",
              "            + ' to learn more about interactive tables.';\n",
              "          element.innerHTML = '';\n",
              "          dataTable['output_type'] = 'display_data';\n",
              "          await google.colab.output.renderOutput(dataTable, element);\n",
              "          const docLink = document.createElement('div');\n",
              "          docLink.innerHTML = docLinkHtml;\n",
              "          element.appendChild(docLink);\n",
              "        }\n",
              "      </script>\n",
              "    </div>\n",
              "  </div>\n",
              "  "
            ]
          },
          "metadata": {},
          "execution_count": 33
        }
      ],
      "source": [
        "df.head()"
      ]
    },
    {
      "cell_type": "markdown",
      "source": [
        "**Wheather Data Observations**\n",
        "\n",
        "```\n",
        "Temperature: Temperature noon (temperature max) in Celcius degrees : 28.6 to 92.6\n",
        "(DMC)Duff moisture code index from the FWI system : 1.1 to 65.9\n",
        "(DC) Drought code index from the FWI system : 7 to 220.4\n",
        "(ISI) Initial spread index from the FWI system : 0 to 18.5 \n",
        "(BUI) Buldup index from the FWI index system : 1.1 to 68 \n",
        "(FWI) Fire wheather index : 0 to 31.1\n",
        "\n",
        "Classes : two classes , namely Fire and not Fire .\n",
        "\n",
        "Region : Two region , namely Bejia region indicated  with 0 and Sidi Bel-Abbes region indicated with 1\n",
        "```\n",
        "\n"
      ],
      "metadata": {
        "id": "k-OLtCuAM5wt"
      },
      "id": "k-OLtCuAM5wt"
    },
    {
      "cell_type": "markdown",
      "source": [
        "**DATE Observation (DD/MM/YYYY)** :-\n",
        "\n",
        "```\n",
        "Date displayed in (DD/MM/YYYY) format in dataset\n",
        "```\n",
        "**Univariate Analysis**\n",
        "\n",
        "\n",
        "```\n",
        "The term univariate analysis refers to the analysis of single  variable\n",
        "```\n",
        "\n",
        "\n"
      ],
      "metadata": {
        "id": "cFYmf4Q8Ovrq"
      },
      "id": "cFYmf4Q8Ovrq"
    },
    {
      "cell_type": "code",
      "execution_count": null,
      "id": "fd517f56",
      "metadata": {
        "colab": {
          "base_uri": "https://localhost:8080/"
        },
        "id": "fd517f56",
        "outputId": "37fe0c82-42c6-4a66-a3ce-b5568e4893f2"
      },
      "outputs": [
        {
          "output_type": "execute_result",
          "data": {
            "text/plain": [
              "Classes    0.24647\n",
              "dtype: float64"
            ]
          },
          "metadata": {},
          "execution_count": 34
        }
      ],
      "source": [
        "df.var()"
      ]
    },
    {
      "cell_type": "markdown",
      "source": [
        "**Numericals Features**"
      ],
      "metadata": {
        "id": "Q3hkWhBoPrZf"
      },
      "id": "Q3hkWhBoPrZf"
    },
    {
      "cell_type": "code",
      "execution_count": null,
      "id": "500b9b99",
      "metadata": {
        "colab": {
          "base_uri": "https://localhost:8080/",
          "height": 240
        },
        "id": "500b9b99",
        "outputId": "1e23d1d3-b483-4880-d46e-9fdf74fd5725"
      },
      "outputs": [
        {
          "output_type": "display_data",
          "data": {
            "text/plain": [
              "<Figure size 1080x1080 with 1 Axes>"
            ],
            "image/png": "[encoded data removed]"
          },
          "metadata": {
            "needs_background": "light"
          }
        }
      ],
      "source": [
        "plt.figure(figsize=(15,15))\n",
        "plt.suptitle('Univariate analysis of numericals features',fontsize = 20)\n",
        "for i in range(0,len(num_fea)):\n",
        "    plt.subplot(5,3,i+1)\n",
        "    sns.kdeplot(x=df[num_fea[i]],shade=True,color='b')\n",
        "\n",
        "    plt.xlabel(num_fea[i])\n",
        "    plt.tight_layout()\n",
        "    \n",
        "    "
      ]
    },
    {
      "cell_type": "markdown",
      "source": [
        "**Observation**\n",
        "\n",
        "```\n",
        "Rain , ISI , BUI , DMC are right skewed and positively skewed.\n",
        "FFMC is a left and Negatively skewed .\n",
        "Outliers in Rain , ISI , BUI , DMC and FFMC\n",
        "```\n",
        "**Scatter plot to see the trends in each numericals column**\n"
      ],
      "metadata": {
        "id": "ltb6dy4mP7t3"
      },
      "id": "ltb6dy4mP7t3"
    },
    {
      "cell_type": "code",
      "execution_count": null,
      "id": "5063d178",
      "metadata": {
        "colab": {
          "base_uri": "https://localhost:8080/",
          "height": 237
        },
        "id": "5063d178",
        "outputId": "0c097dbd-19d8-420a-989f-b981e09b5390"
      },
      "outputs": [
        {
          "output_type": "display_data",
          "data": {
            "text/plain": [
              "<Figure size 1080x1080 with 1 Axes>"
            ],
            "image/png": "[encoded data removed]"
          },
          "metadata": {
            "needs_background": "light"
          }
        }
      ],
      "source": [
        "plt.figure(figsize=(15,15))\n",
        "plt.suptitle('Univariate analysis of numericals features',fontsize = 20)\n",
        "for i in range(0,len(num_fea)):\n",
        "    plt.subplot(5,3,i+1)\n",
        "    sns.scatterplot(y=num_fea[i],x=df.index,data=df)\n",
        "    plt.tight_layout()"
      ]
    },
    {
      "cell_type": "markdown",
      "id": "25c73364",
      "metadata": {
        "id": "25c73364"
      },
      "source": [
        "Categorical features"
      ]
    },
    {
      "cell_type": "code",
      "execution_count": null,
      "id": "bc332b26",
      "metadata": {
        "colab": {
          "base_uri": "https://localhost:8080/",
          "height": 898
        },
        "id": "bc332b26",
        "outputId": "28597877-7690-4385-f9f2-b60d8615728e"
      },
      "outputs": [
        {
          "output_type": "display_data",
          "data": {
            "text/plain": [
              "<Figure size 1440x1080 with 3 Axes>"
            ],
            "image/png": "[encoded data removed]"
          },
          "metadata": {
            "needs_background": "light"
          }
        }
      ],
      "source": [
        "plt.figure(figsize=(20,15))\n",
        "plt.suptitle('Univariate features of catogorical features',fontsize=20)\n",
        "cat1=['DC','FWI','Classes']\n",
        "for i in range(0,len(cat1)):\n",
        "    plt.subplot(2,2,i+1)\n",
        "    sns.countplot(x=df[cat1[i]])\n",
        "    plt.xlabel(cat1[i])\n",
        "    plt.xticks(rotation=45)\n",
        "    plt.tight_layout()"
      ]
    },
    {
      "cell_type": "markdown",
      "source": [
        "**Obsevation**\n",
        "\n",
        "\n",
        "```\n",
        "Extreme value of Temperature is above 40\n",
        "Most of the time RH is above 30\n",
        "Ws values lie between 10 to 20\n",
        "```\n",
        "\n",
        "\n",
        "Bivariate analysis and multivariate analyis \n",
        "straight (categorical vs numericals )\n",
        "scatter / pairplot  (numericals numericals ) (check correlation)\n",
        "boxplot (outliers)\n",
        "heatmap (correlation)\n",
        "lineplot (trend in numericals feature with line)\n",
        "\n",
        "**Multicolleniarity in numerical features**\n",
        "\n"
      ],
      "metadata": {
        "id": "PKtPEyzXRNf0"
      },
      "id": "PKtPEyzXRNf0"
    },
    {
      "cell_type": "code",
      "execution_count": null,
      "id": "723b6589",
      "metadata": {
        "id": "723b6589",
        "outputId": "b3e4d9a1-60a4-4973-e8e1-9ac2e1c7893d"
      },
      "outputs": [
        {
          "data": {
            "text/html": [
              "<div>\n",
              "<style scoped>\n",
              "    .dataframe tbody tr th:only-of-type {\n",
              "        vertical-align: middle;\n",
              "    }\n",
              "\n",
              "    .dataframe tbody tr th {\n",
              "        vertical-align: top;\n",
              "    }\n",
              "\n",
              "    .dataframe thead th {\n",
              "        text-align: right;\n",
              "    }\n",
              "</style>\n",
              "<table border=\"1\" class=\"dataframe\">\n",
              "  <thead>\n",
              "    <tr style=\"text-align: right;\">\n",
              "      <th></th>\n",
              "      <th>Temperature</th>\n",
              "      <th>RH</th>\n",
              "      <th>Ws</th>\n",
              "      <th>Rain</th>\n",
              "      <th>FFMC</th>\n",
              "      <th>DMC</th>\n",
              "      <th>ISI</th>\n",
              "      <th>BUI</th>\n",
              "      <th>Classes</th>\n",
              "    </tr>\n",
              "  </thead>\n",
              "  <tbody>\n",
              "    <tr>\n",
              "      <th>Temperature</th>\n",
              "      <td>1.000000</td>\n",
              "      <td>-0.654443</td>\n",
              "      <td>-0.278132</td>\n",
              "      <td>-0.326786</td>\n",
              "      <td>0.677491</td>\n",
              "      <td>0.483105</td>\n",
              "      <td>0.607551</td>\n",
              "      <td>0.455504</td>\n",
              "      <td>0.518119</td>\n",
              "    </tr>\n",
              "    <tr>\n",
              "      <th>RH</th>\n",
              "      <td>-0.654443</td>\n",
              "      <td>1.000000</td>\n",
              "      <td>0.236084</td>\n",
              "      <td>0.222968</td>\n",
              "      <td>-0.645658</td>\n",
              "      <td>-0.405133</td>\n",
              "      <td>-0.690637</td>\n",
              "      <td>-0.348587</td>\n",
              "      <td>-0.435023</td>\n",
              "    </tr>\n",
              "    <tr>\n",
              "      <th>Ws</th>\n",
              "      <td>-0.278132</td>\n",
              "      <td>0.236084</td>\n",
              "      <td>1.000000</td>\n",
              "      <td>0.170169</td>\n",
              "      <td>-0.163255</td>\n",
              "      <td>-0.001246</td>\n",
              "      <td>0.015248</td>\n",
              "      <td>0.029756</td>\n",
              "      <td>-0.066529</td>\n",
              "    </tr>\n",
              "    <tr>\n",
              "      <th>Rain</th>\n",
              "      <td>-0.326786</td>\n",
              "      <td>0.222968</td>\n",
              "      <td>0.170169</td>\n",
              "      <td>1.000000</td>\n",
              "      <td>-0.544045</td>\n",
              "      <td>-0.288548</td>\n",
              "      <td>-0.347105</td>\n",
              "      <td>-0.299171</td>\n",
              "      <td>-0.379449</td>\n",
              "    </tr>\n",
              "    <tr>\n",
              "      <th>FFMC</th>\n",
              "      <td>0.677491</td>\n",
              "      <td>-0.645658</td>\n",
              "      <td>-0.163255</td>\n",
              "      <td>-0.544045</td>\n",
              "      <td>1.000000</td>\n",
              "      <td>0.602391</td>\n",
              "      <td>0.739730</td>\n",
              "      <td>0.589652</td>\n",
              "      <td>0.770114</td>\n",
              "    </tr>\n",
              "    <tr>\n",
              "      <th>DMC</th>\n",
              "      <td>0.483105</td>\n",
              "      <td>-0.405133</td>\n",
              "      <td>-0.001246</td>\n",
              "      <td>-0.288548</td>\n",
              "      <td>0.602391</td>\n",
              "      <td>1.000000</td>\n",
              "      <td>0.674499</td>\n",
              "      <td>0.982073</td>\n",
              "      <td>0.584188</td>\n",
              "    </tr>\n",
              "    <tr>\n",
              "      <th>ISI</th>\n",
              "      <td>0.607551</td>\n",
              "      <td>-0.690637</td>\n",
              "      <td>0.015248</td>\n",
              "      <td>-0.347105</td>\n",
              "      <td>0.739730</td>\n",
              "      <td>0.674499</td>\n",
              "      <td>1.000000</td>\n",
              "      <td>0.635891</td>\n",
              "      <td>0.735511</td>\n",
              "    </tr>\n",
              "    <tr>\n",
              "      <th>BUI</th>\n",
              "      <td>0.455504</td>\n",
              "      <td>-0.348587</td>\n",
              "      <td>0.029756</td>\n",
              "      <td>-0.299171</td>\n",
              "      <td>0.589652</td>\n",
              "      <td>0.982073</td>\n",
              "      <td>0.635891</td>\n",
              "      <td>1.000000</td>\n",
              "      <td>0.583882</td>\n",
              "    </tr>\n",
              "    <tr>\n",
              "      <th>Classes</th>\n",
              "      <td>0.518119</td>\n",
              "      <td>-0.435023</td>\n",
              "      <td>-0.066529</td>\n",
              "      <td>-0.379449</td>\n",
              "      <td>0.770114</td>\n",
              "      <td>0.584188</td>\n",
              "      <td>0.735511</td>\n",
              "      <td>0.583882</td>\n",
              "      <td>1.000000</td>\n",
              "    </tr>\n",
              "  </tbody>\n",
              "</table>\n",
              "</div>"
            ],
            "text/plain": [
              "             Temperature        RH        Ws      Rain      FFMC       DMC  \\\n",
              "Temperature     1.000000 -0.654443 -0.278132 -0.326786  0.677491  0.483105   \n",
              "RH             -0.654443  1.000000  0.236084  0.222968 -0.645658 -0.405133   \n",
              "Ws             -0.278132  0.236084  1.000000  0.170169 -0.163255 -0.001246   \n",
              "Rain           -0.326786  0.222968  0.170169  1.000000 -0.544045 -0.288548   \n",
              "FFMC            0.677491 -0.645658 -0.163255 -0.544045  1.000000  0.602391   \n",
              "DMC             0.483105 -0.405133 -0.001246 -0.288548  0.602391  1.000000   \n",
              "ISI             0.607551 -0.690637  0.015248 -0.347105  0.739730  0.674499   \n",
              "BUI             0.455504 -0.348587  0.029756 -0.299171  0.589652  0.982073   \n",
              "Classes         0.518119 -0.435023 -0.066529 -0.379449  0.770114  0.584188   \n",
              "\n",
              "                  ISI       BUI   Classes  \n",
              "Temperature  0.607551  0.455504  0.518119  \n",
              "RH          -0.690637 -0.348587 -0.435023  \n",
              "Ws           0.015248  0.029756 -0.066529  \n",
              "Rain        -0.347105 -0.299171 -0.379449  \n",
              "FFMC         0.739730  0.589652  0.770114  \n",
              "DMC          0.674499  0.982073  0.584188  \n",
              "ISI          1.000000  0.635891  0.735511  \n",
              "BUI          0.635891  1.000000  0.583882  \n",
              "Classes      0.735511  0.583882  1.000000  "
            ]
          },
          "execution_count": 52,
          "metadata": {},
          "output_type": "execute_result"
        }
      ],
      "source": [
        "df.corr()"
      ]
    },
    {
      "cell_type": "code",
      "execution_count": null,
      "id": "73767894",
      "metadata": {
        "id": "73767894",
        "outputId": "44743001-3888-4e7c-d137-94b742989674"
      },
      "outputs": [
        {
          "data": {
            "text/plain": [
              "<AxesSubplot:>"
            ]
          },
          "execution_count": 53,
          "metadata": {},
          "output_type": "execute_result"
        },
        {
          "data": {
            "image/png": "[encoded data removed]",
            "text/plain": [
              "<Figure size 1440x1080 with 2 Axes>"
            ]
          },
          "metadata": {
            "needs_background": "light"
          },
          "output_type": "display_data"
        }
      ],
      "source": [
        "plt.figure(figsize=(20,15))\n",
        "sns.heatmap(df.corr(),cmap='CMRmap',annot = True)"
      ]
    },
    {
      "cell_type": "markdown",
      "source": [
        "**Observation**\n",
        "\n",
        "\n",
        "```\n",
        "Highly +ve correlated features are DMC and \n",
        "Highly -ve correlated features are RH and  temp. RH FFMC , RH and ISI\n",
        "\n",
        "```\n",
        "**Strip plot to see the relationship between numericals features and target**\n",
        "\n"
      ],
      "metadata": {
        "id": "Y8X-h9hCSjBs"
      },
      "id": "Y8X-h9hCSjBs"
    },
    {
      "cell_type": "code",
      "execution_count": null,
      "id": "ce678a56",
      "metadata": {
        "id": "ce678a56",
        "outputId": "70666d6c-d9d8-4eb1-91ac-c563f4a75ff4"
      },
      "outputs": [
        {
          "data": {
            "image/png": "[encoded data removed]",
            "text/plain": [
              "<Figure size 1080x1440 with 10 Axes>"
            ]
          },
          "metadata": {
            "needs_background": "light"
          },
          "output_type": "display_data"
        }
      ],
      "source": [
        "plt.figure(figsize=(15,20))\n",
        "plt.suptitle('Strip Plot',fontsize=20,fontweight='bold',alpha=1,y=1)\n",
        "for i in range(0,len(num_fea)):\n",
        "    plt.subplot(5,3,i+1)\n",
        "    sns.stripplot(y=num_fea[i],x='Classes',data=df)\n",
        "    plt.tight_layout()"
      ]
    },
    {
      "cell_type": "markdown",
      "source": [
        "**Observation:-**\n",
        "\n",
        "\n",
        "\n",
        "```\n",
        "Note:- here O = not Fire and 1 = fire\n",
        "places with higher temperature has fire \n",
        "places with lower RH has fire \n",
        "\n",
        "\n",
        "places with ffmc > 80 has fire \n",
        "places with ISI > 2.5\n",
        "places with Rain < has fire\n",
        "```\n",
        "\n",
        "**Box plot to find Outliers in the features **\n",
        "\n"
      ],
      "metadata": {
        "id": "ZevmtylbTQSJ"
      },
      "id": "ZevmtylbTQSJ"
    },
    {
      "cell_type": "code",
      "execution_count": null,
      "id": "80db08d1",
      "metadata": {
        "id": "80db08d1",
        "outputId": "ce0db3c3-8abb-4b00-cf20-84ad7fc5bfef"
      },
      "outputs": [
        {
          "data": {
            "text/plain": [
              "<AxesSubplot:>"
            ]
          },
          "execution_count": 61,
          "metadata": {},
          "output_type": "execute_result"
        },
        {
          "data": {
            "image/png": "[encoded data removed]",
            "text/plain": [
              "<Figure size 432x288 with 1 Axes>"
            ]
          },
          "metadata": {
            "needs_background": "light"
          },
          "output_type": "display_data"
        }
      ],
      "source": [
        "sns.boxplot(data=df,orient=\"v\")"
      ]
    },
    {
      "cell_type": "markdown",
      "source": [
        "**Observation**\n",
        "\n",
        "\n",
        "```\n",
        "RH , Rain , FFMC , DMC , BUI has many outliers\n",
        "```\n",
        "\n"
      ],
      "metadata": {
        "id": "qOUcdJX7Urx0"
      },
      "id": "qOUcdJX7Urx0"
    },
    {
      "cell_type": "markdown",
      "id": "c1771f75",
      "metadata": {
        "id": "c1771f75"
      },
      "source": [
        "Statistical Analysis"
      ]
    },
    {
      "cell_type": "code",
      "execution_count": null,
      "id": "3f4a63f2",
      "metadata": {
        "id": "3f4a63f2",
        "outputId": "183a14d1-ce39-472e-e764-af05a7a13275"
      },
      "outputs": [
        {
          "data": {
            "text/html": [
              "<div>\n",
              "<style scoped>\n",
              "    .dataframe tbody tr th:only-of-type {\n",
              "        vertical-align: middle;\n",
              "    }\n",
              "\n",
              "    .dataframe tbody tr th {\n",
              "        vertical-align: top;\n",
              "    }\n",
              "\n",
              "    .dataframe thead th {\n",
              "        text-align: right;\n",
              "    }\n",
              "</style>\n",
              "<table border=\"1\" class=\"dataframe\">\n",
              "  <thead>\n",
              "    <tr style=\"text-align: right;\">\n",
              "      <th></th>\n",
              "      <th>count</th>\n",
              "      <th>mean</th>\n",
              "      <th>std</th>\n",
              "      <th>min</th>\n",
              "      <th>25%</th>\n",
              "      <th>50%</th>\n",
              "      <th>75%</th>\n",
              "      <th>max</th>\n",
              "    </tr>\n",
              "  </thead>\n",
              "  <tbody>\n",
              "    <tr>\n",
              "      <th>Temperature</th>\n",
              "      <td>244.0</td>\n",
              "      <td>32.172131</td>\n",
              "      <td>3.633843</td>\n",
              "      <td>22.0</td>\n",
              "      <td>30.000</td>\n",
              "      <td>32.00</td>\n",
              "      <td>35.000</td>\n",
              "      <td>42.0</td>\n",
              "    </tr>\n",
              "    <tr>\n",
              "      <th>RH</th>\n",
              "      <td>244.0</td>\n",
              "      <td>61.938525</td>\n",
              "      <td>14.884200</td>\n",
              "      <td>21.0</td>\n",
              "      <td>52.000</td>\n",
              "      <td>63.00</td>\n",
              "      <td>73.250</td>\n",
              "      <td>90.0</td>\n",
              "    </tr>\n",
              "    <tr>\n",
              "      <th>Ws</th>\n",
              "      <td>244.0</td>\n",
              "      <td>15.504098</td>\n",
              "      <td>2.810178</td>\n",
              "      <td>6.0</td>\n",
              "      <td>14.000</td>\n",
              "      <td>15.00</td>\n",
              "      <td>17.000</td>\n",
              "      <td>29.0</td>\n",
              "    </tr>\n",
              "    <tr>\n",
              "      <th>Rain</th>\n",
              "      <td>244.0</td>\n",
              "      <td>0.760656</td>\n",
              "      <td>1.999406</td>\n",
              "      <td>0.0</td>\n",
              "      <td>0.000</td>\n",
              "      <td>0.00</td>\n",
              "      <td>0.500</td>\n",
              "      <td>16.8</td>\n",
              "    </tr>\n",
              "    <tr>\n",
              "      <th>FFMC</th>\n",
              "      <td>244.0</td>\n",
              "      <td>77.887705</td>\n",
              "      <td>14.337571</td>\n",
              "      <td>28.6</td>\n",
              "      <td>72.075</td>\n",
              "      <td>83.50</td>\n",
              "      <td>88.300</td>\n",
              "      <td>96.0</td>\n",
              "    </tr>\n",
              "    <tr>\n",
              "      <th>DMC</th>\n",
              "      <td>244.0</td>\n",
              "      <td>14.673361</td>\n",
              "      <td>12.368039</td>\n",
              "      <td>0.7</td>\n",
              "      <td>5.800</td>\n",
              "      <td>11.30</td>\n",
              "      <td>20.750</td>\n",
              "      <td>65.9</td>\n",
              "    </tr>\n",
              "    <tr>\n",
              "      <th>ISI</th>\n",
              "      <td>244.0</td>\n",
              "      <td>4.774180</td>\n",
              "      <td>4.175318</td>\n",
              "      <td>0.0</td>\n",
              "      <td>1.400</td>\n",
              "      <td>3.50</td>\n",
              "      <td>7.300</td>\n",
              "      <td>19.0</td>\n",
              "    </tr>\n",
              "    <tr>\n",
              "      <th>BUI</th>\n",
              "      <td>244.0</td>\n",
              "      <td>16.664754</td>\n",
              "      <td>14.204824</td>\n",
              "      <td>1.1</td>\n",
              "      <td>6.000</td>\n",
              "      <td>12.25</td>\n",
              "      <td>22.525</td>\n",
              "      <td>68.0</td>\n",
              "    </tr>\n",
              "    <tr>\n",
              "      <th>Classes</th>\n",
              "      <td>244.0</td>\n",
              "      <td>0.565574</td>\n",
              "      <td>0.496700</td>\n",
              "      <td>0.0</td>\n",
              "      <td>0.000</td>\n",
              "      <td>1.00</td>\n",
              "      <td>1.000</td>\n",
              "      <td>1.0</td>\n",
              "    </tr>\n",
              "  </tbody>\n",
              "</table>\n",
              "</div>"
            ],
            "text/plain": [
              "             count       mean        std   min     25%    50%     75%   max\n",
              "Temperature  244.0  32.172131   3.633843  22.0  30.000  32.00  35.000  42.0\n",
              "RH           244.0  61.938525  14.884200  21.0  52.000  63.00  73.250  90.0\n",
              "Ws           244.0  15.504098   2.810178   6.0  14.000  15.00  17.000  29.0\n",
              "Rain         244.0   0.760656   1.999406   0.0   0.000   0.00   0.500  16.8\n",
              "FFMC         244.0  77.887705  14.337571  28.6  72.075  83.50  88.300  96.0\n",
              "DMC          244.0  14.673361  12.368039   0.7   5.800  11.30  20.750  65.9\n",
              "ISI          244.0   4.774180   4.175318   0.0   1.400   3.50   7.300  19.0\n",
              "BUI          244.0  16.664754  14.204824   1.1   6.000  12.25  22.525  68.0\n",
              "Classes      244.0   0.565574   0.496700   0.0   0.000   1.00   1.000   1.0"
            ]
          },
          "execution_count": 63,
          "metadata": {},
          "output_type": "execute_result"
        }
      ],
      "source": [
        "df.describe().T"
      ]
    },
    {
      "cell_type": "markdown",
      "source": [
        "**Observation**\n",
        "\n",
        "\n",
        "```\n",
        "df.describe() return all Statistics Summary of Numeric Columns\n",
        "\n",
        "Its Return funcition like :- count(),mean(),min(),25%(),50%(),75%(),max()\n",
        "```\n"
      ],
      "metadata": {
        "id": "zFKtA3voVfLH"
      },
      "id": "zFKtA3voVfLH"
    },
    {
      "cell_type": "markdown",
      "id": "2ec981ed",
      "metadata": {
        "id": "2ec981ed"
      },
      "source": [
        "Graphical Analysis"
      ]
    },
    {
      "cell_type": "code",
      "execution_count": null,
      "id": "2c96018e",
      "metadata": {
        "id": "2c96018e",
        "outputId": "2d3130c3-626c-4412-aa3e-8fd4a2a33d48"
      },
      "outputs": [
        {
          "data": {
            "text/plain": [
              "<AxesSubplot:xlabel='region', ylabel='Classes'>"
            ]
          },
          "execution_count": 64,
          "metadata": {},
          "output_type": "execute_result"
        },
        {
          "data": {
            "image/png": "[encoded data removed]",
            "text/plain": [
              "<Figure size 720x1440 with 1 Axes>"
            ]
          },
          "metadata": {
            "needs_background": "light"
          },
          "output_type": "display_data"
        }
      ],
      "source": [
        "import matplotlib\n",
        "matplotlib.rcParams['figure.figsize']=(10,20)\n",
        "sns.barplot(x='region',y='Classes',data=df)"
      ]
    },
    {
      "cell_type": "markdown",
      "source": [
        "**Observation**\n",
        "\n",
        "\n",
        "```\n",
        "Sidi-Bel-Abbes Region has most of the Time Fire took placed\n",
        "```\n",
        "\n"
      ],
      "metadata": {
        "id": "ed_4CmwrV9XN"
      },
      "id": "ed_4CmwrV9XN"
    },
    {
      "cell_type": "markdown",
      "id": "beb0a86d",
      "metadata": {
        "id": "beb0a86d"
      },
      "source": [
        "Temperatue Range which is in the most of the places"
      ]
    },
    {
      "cell_type": "code",
      "execution_count": null,
      "id": "43da3ddf",
      "metadata": {
        "id": "43da3ddf",
        "outputId": "4917f16c-98fb-48f6-d9f4-e31c408118e4"
      },
      "outputs": [
        {
          "data": {
            "text/plain": [
              "<AxesSubplot:xlabel='Temperature', ylabel='Count'>"
            ]
          },
          "execution_count": 66,
          "metadata": {},
          "output_type": "execute_result"
        },
        {
          "data": {
            "image/png": "[encoded data removed]",
            "text/plain": [
              "<Figure size 1440x1080 with 1 Axes>"
            ]
          },
          "metadata": {
            "needs_background": "light"
          },
          "output_type": "display_data"
        }
      ],
      "source": [
        "plt.subplots(figsize=(20,15))\n",
        "sns.histplot('Distribution of temperatue',x=df.Temperature,color='g',kde=True)"
      ]
    },
    {
      "cell_type": "markdown",
      "source": [
        "**Observation**\n",
        "\n",
        "\n",
        "```\n",
        "Temperature occur most of the time in range 32.5 to 35.0\n",
        "```\n",
        "**Highest Temperature attained **\n"
      ],
      "metadata": {
        "id": "ptQp21IOWV0m"
      },
      "id": "ptQp21IOWV0m"
    },
    {
      "cell_type": "code",
      "execution_count": null,
      "id": "8a8e7fa0",
      "metadata": {
        "id": "8a8e7fa0",
        "outputId": "4a4a1146-a185-4d05-e2d9-907d1534a960"
      },
      "outputs": [
        {
          "data": {
            "text/plain": [
              "<AxesSubplot:xlabel='Temperature', ylabel='Classes'>"
            ]
          },
          "execution_count": 68,
          "metadata": {},
          "output_type": "execute_result"
        },
        {
          "data": {
            "image/png": "[encoded data removed]",
            "text/plain": [
              "<Figure size 1440x720 with 1 Axes>"
            ]
          },
          "metadata": {
            "needs_background": "light"
          },
          "output_type": "display_data"
        }
      ],
      "source": [
        "import matplotlib\n",
        "matplotlib.rcParams['figure.figsize']=(20,10)\n",
        "sns.barplot(x='Temperature',y='Classes',data=df)"
      ]
    },
    {
      "cell_type": "markdown",
      "source": [
        "**Observation**\n",
        "Highest temperatue is 42,40,37\n",
        "\n",
        "**Which region has most time rain happens **"
      ],
      "metadata": {
        "id": "jt4g5P9gWs1W"
      },
      "id": "jt4g5P9gWs1W"
    },
    {
      "cell_type": "code",
      "execution_count": null,
      "id": "54b56278",
      "metadata": {
        "id": "54b56278",
        "outputId": "6f298c87-0042-40d1-b4da-842ea4d98ddd"
      },
      "outputs": [
        {
          "data": {
            "text/plain": [
              "<AxesSubplot:xlabel='region', ylabel='Rain'>"
            ]
          },
          "execution_count": 69,
          "metadata": {},
          "output_type": "execute_result"
        },
        {
          "data": {
            "image/png": "[encoded data removed]",
            "text/plain": [
              "<Figure size 1440x720 with 1 Axes>"
            ]
          },
          "metadata": {
            "needs_background": "light"
          },
          "output_type": "display_data"
        }
      ],
      "source": [
        "import matplotlib\n",
        "matplotlib.rcParams['figure.figsize']=(20,10)\n",
        "sns.barplot(x='region',y='Rain',data=df)"
      ]
    },
    {
      "cell_type": "markdown",
      "source": [
        "**Observation**\n",
        "Bejia is the region in which most of the time rain happens\n",
        "\n",
        "**Boxplot to find outliers in the features**"
      ],
      "metadata": {
        "id": "o0aLYZc3XDoG"
      },
      "id": "o0aLYZc3XDoG"
    },
    {
      "cell_type": "code",
      "execution_count": null,
      "id": "52c2b3f8",
      "metadata": {
        "id": "52c2b3f8",
        "outputId": "29056894-5f7f-42fe-871f-9cdc488b1fe8"
      },
      "outputs": [
        {
          "data": {
            "text/plain": [
              "<AxesSubplot:>"
            ]
          },
          "execution_count": 70,
          "metadata": {},
          "output_type": "execute_result"
        },
        {
          "data": {
            "image/png": "[encoded data removed]",
            "text/plain": [
              "<Figure size 1440x720 with 1 Axes>"
            ]
          },
          "metadata": {
            "needs_background": "light"
          },
          "output_type": "display_data"
        }
      ],
      "source": [
        "sns.boxplot(data=df,orient=\"v\")"
      ]
    },
    {
      "cell_type": "markdown",
      "source": [
        "**Observation**\n",
        "\n",
        "\n",
        "```\n",
        "RH,Rain,FFMC,DMC BUI has many outliers\n",
        "```\n",
        "\n",
        "\n",
        "\n",
        "**Boxplot of Class Vs temperature**"
      ],
      "metadata": {
        "id": "yB-7QmmKXhAp"
      },
      "id": "yB-7QmmKXhAp"
    },
    {
      "cell_type": "markdown",
      "source": [],
      "metadata": {
        "id": "KDioTj8UZ3Mj"
      },
      "id": "KDioTj8UZ3Mj"
    },
    {
      "cell_type": "code",
      "execution_count": null,
      "id": "d684524a",
      "metadata": {
        "id": "d684524a",
        "outputId": "81e0a91c-a0ba-43a4-c7bb-f03cfcd3e1e4"
      },
      "outputs": [
        {
          "data": {
            "text/plain": [
              "<AxesSubplot:xlabel='Classes', ylabel='Temperature'>"
            ]
          },
          "execution_count": 72,
          "metadata": {},
          "output_type": "execute_result"
        },
        {
          "data": {
            "image/png": "[encoded data removed]",
            "text/plain": [
              "<Figure size 1440x720 with 1 Axes>"
            ]
          },
          "metadata": {},
          "output_type": "display_data"
        }
      ],
      "source": [
        "import seaborn\n",
        "seaborn.set(style=\"whitegrid\")\n",
        "seaborn.boxplot(x='Classes',y='Temperature',data=df)"
      ]
    },
    {
      "cell_type": "markdown",
      "source": [
        "**Observation**\n",
        "\n",
        "\n",
        "```\n",
        "One day at lower temperature fires occur\n",
        "```\n",
        "**Boxplot of Classes Vs Rain**\n",
        "\n"
      ],
      "metadata": {
        "id": "-VtmOjLPZ88v"
      },
      "id": "-VtmOjLPZ88v"
    },
    {
      "cell_type": "code",
      "execution_count": null,
      "id": "87eb698e",
      "metadata": {
        "id": "87eb698e",
        "outputId": "384dd989-a2f4-4baf-89b5-db548020f449"
      },
      "outputs": [
        {
          "data": {
            "text/plain": [
              "<AxesSubplot:xlabel='Classes', ylabel='Rain'>"
            ]
          },
          "execution_count": 73,
          "metadata": {},
          "output_type": "execute_result"
        },
        {
          "data": {
            "image/png": "[encoded data removed]",
            "text/plain": [
              "<Figure size 1440x720 with 1 Axes>"
            ]
          },
          "metadata": {},
          "output_type": "display_data"
        }
      ],
      "source": [
        "import seaborn\n",
        "seaborn.set(style=\"whitegrid\")\n",
        "seaborn.boxplot(x='Classes',y='Rain',data=df)"
      ]
    },
    {
      "cell_type": "markdown",
      "source": [
        "**Observation**\n",
        "\n",
        "\n",
        "\n",
        "```\n",
        "In many days after having rain also fire occur\n",
        "```\n",
        "\n"
      ],
      "metadata": {
        "id": "3XnZfkVSZhXe"
      },
      "id": "3XnZfkVSZhXe"
    },
    {
      "cell_type": "code",
      "source": [],
      "metadata": {
        "id": "6tc5Xxr9Zzdk"
      },
      "id": "6tc5Xxr9Zzdk",
      "execution_count": null,
      "outputs": []
    }
  ],
  "metadata": {
    "kernelspec": {
      "display_name": "Python 3 (ipykernel)",
      "language": "python",
      "name": "python3"
    },
    "language_info": {
      "codemirror_mode": {
        "name": "ipython",
        "version": 3
      },
      "file_extension": ".py",
      "mimetype": "text/x-python",
      "name": "python",
      "nbconvert_exporter": "python",
      "pygments_lexer": "ipython3",
      "version": "3.9.12"
    },
    "colab": {
      "provenance": [],
      "collapsed_sections": []
    }
  },
  "nbformat": 4,
  "nbformat_minor": 5
}